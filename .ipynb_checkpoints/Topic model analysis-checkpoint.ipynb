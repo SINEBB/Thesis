{
 "cells": [
  {
   "cell_type": "markdown",
   "id": "00192db9-c832-4920-b92d-6ed44475dab1",
   "metadata": {},
   "source": [
    "# Topic model analysis"
   ]
  },
  {
   "cell_type": "markdown",
   "id": "711593b2-d327-49ac-8fc9-064b8f1af6a3",
   "metadata": {},
   "source": [
    "## Setup and import packages"
   ]
  },
  {
   "cell_type": "code",
   "execution_count": 2,
   "id": "70dd9816-21ad-4958-b87a-52c15df0c191",
   "metadata": {},
   "outputs": [],
   "source": [
    "#general\n",
    "import pandas as pd \n",
    "from matplotlib import pyplot as plt\n",
    "import json\n",
    "import numpy as np\n",
    "import warnings\n",
    "import pickle\n",
    "\n",
    "#for OpenAlex\n",
    "import pyalex\n",
    "from pyalex import Works, Authors, Sources, Institutions, Concepts, Publishers, Funders\n",
    "from itertools import chain\n",
    "\n",
    "#for Gender Guesser\n",
    "from urllib.request import urlopen\n",
    "from genderize import Genderize\n",
    "import gender_guesser.detector as gender\n",
    "import pycountry\n",
    "import re\n",
    "\n",
    "#for Geopandas\n",
    "import mapclassify\n",
    "import geopandas\n",
    "\n",
    "#for topic model\n",
    "import nltk\n",
    "from nltk.tokenize import word_tokenize\n",
    "from nltk.stem import WordNetLemmatizer\n",
    "from nltk.corpus import stopwords\n",
    "from nltk.stem import *\n",
    "from nltk.stem.porter import *\n",
    "\n",
    "import gensim\n",
    "from gensim.corpora import Dictionary\n",
    "from gensim.models import LdaModel\n",
    "from gensim.matutils import corpus2csc\n",
    "from sklearn.feature_extraction.text import CountVectorizer\n",
    "\n",
    "from wordcloud import WordCloud\n",
    "import scipy.interpolate.interpnd\n",
    "import pyLDAvis\n",
    "import pyLDAvis.gensim"
   ]
  },
  {
   "cell_type": "markdown",
   "id": "ed203ac4-0fac-47a0-bcd5-d488b942e782",
   "metadata": {},
   "source": [
    "## Import data"
   ]
  },
  {
   "cell_type": "code",
   "execution_count": 3,
   "id": "f5485599-645c-4d4b-99c4-46a857133f2d",
   "metadata": {},
   "outputs": [],
   "source": [
    "year=np.arange(1970, 2024, 1).astype(str)"
   ]
  },
  {
   "cell_type": "code",
   "execution_count": 5,
   "id": "424c2468-db0a-43c5-9d33-8f223516f6a9",
   "metadata": {},
   "outputs": [
    {
     "name": "stdout",
     "output_type": "stream",
     "text": [
      "CPU times: user 1min 22s, sys: 6min 42s, total: 8min 4s\n",
      "Wall time: 59min 29s\n"
     ]
    }
   ],
   "source": [
    "%%time\n",
    "physics_data=[]\n",
    "\n",
    "for i in range(len(year)):\n",
    "    with open('OpenAlex Data/Unify/Data%s.pkl' %year[i], 'rb') as f:\n",
    "        physics_data.append(pickle.load(f))\n",
    "\n"
   ]
  },
  {
   "cell_type": "raw",
   "id": "e4e51ce3-9fdd-4d12-8bf4-f6e2b1a4a126",
   "metadata": {},
   "source": [
    "# Use the concat function to add the new rows to the existing DataFrame\n",
    "location = pd.concat([location, new_rows_df], ignore_index=True)"
   ]
  },
  {
   "cell_type": "raw",
   "id": "b3350683-1226-4e4c-a197-1548cbee9d53",
   "metadata": {},
   "source": [
    "%%time\n",
    "all_authors_countries = pd.concat([all_authors[f'countries{i}'].apply(pd.Series) for i in range(len(authorship_positions))], axis=1)\n"
   ]
  },
  {
   "cell_type": "raw",
   "id": "b12604be-a2c9-4dc4-b4fc-7f6ddff88e0e",
   "metadata": {},
   "source": [
    "%%time\n",
    "article_len=np.arange(0, len(all_authors_infos), 1)\n",
    "article_iter=article_len.tolist()\n",
    "author_reps=len(authorship_positions)\n",
    "author_iter=np.concatenate([([i]*len(article_len)) for i in range(len(authorship_positions))], axis=0)\n",
    "repetitions=range(len(authorship_positions))"
   ]
  },
  {
   "cell_type": "markdown",
   "id": "ef6a22c8-bd5a-4d89-bfa0-ac2380c2d132",
   "metadata": {},
   "source": [
    "## Latent Dirichlet Allocation\n",
    "Data preprocessing follows five steps: \n",
    "\n",
    "1) Tokenization: Split the text into sentences and the sentences into words. Lowercase the words and remove punctuation.\n",
    "2) Words that have fewer than 3 characters are removed.\n",
    "3) All stopwords are removed.\n",
    "4) Words are lemmatized — words in third person are changed to first person and verbs in past and future tenses are changed into present.\n",
    "5) Words are stemmed — words are reduced to their root form."
   ]
  },
  {
   "cell_type": "raw",
   "id": "e8c64c8d-2d44-45d2-bda7-fb92540c4fbb",
   "metadata": {},
   "source": [
    "text_data= article_data['abstract']  #to extract the headline_text column and give it the variable name data\n"
   ]
  },
  {
   "cell_type": "code",
   "execution_count": null,
   "id": "5469afe0-47a4-49c4-9198-20d279fab5bc",
   "metadata": {},
   "outputs": [],
   "source": []
  }
 ],
 "metadata": {
  "kernelspec": {
   "display_name": "Python 3 (ipykernel)",
   "language": "python",
   "name": "python3"
  },
  "language_info": {
   "codemirror_mode": {
    "name": "ipython",
    "version": 3
   },
   "file_extension": ".py",
   "mimetype": "text/x-python",
   "name": "python",
   "nbconvert_exporter": "python",
   "pygments_lexer": "ipython3",
   "version": "3.11.6"
  }
 },
 "nbformat": 4,
 "nbformat_minor": 5
}
