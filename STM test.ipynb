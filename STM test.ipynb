{
 "cells": [
  {
   "cell_type": "markdown",
   "id": "1a64aecb-3034-419e-8e56-d9cfd94a3c4e",
   "metadata": {},
   "source": [
    "# Structural Topic Model Test\n",
    "https://github.com/mkrcke/strutopy"
   ]
  },
  {
   "cell_type": "markdown",
   "id": "ccf54a18-5275-42d7-9d89-1e771dab8362",
   "metadata": {},
   "source": [
    "## LDA model"
   ]
  },
  {
   "cell_type": "code",
   "execution_count": 2,
   "id": "1da1075f-4967-4c2f-8411-81f07393b4bc",
   "metadata": {},
   "outputs": [
    {
     "name": "stdout",
     "output_type": "stream",
     "text": [
      "Collecting gensim\n",
      "  Obtaining dependency information for gensim from https://files.pythonhosted.org/packages/63/46/5feab9c524a380bfa9f9f1c0d065743280dca30b216ab4c7a231f22dbed7/gensim-4.3.2-cp311-cp311-macosx_11_0_arm64.whl.metadata\n",
      "  Downloading gensim-4.3.2-cp311-cp311-macosx_11_0_arm64.whl.metadata (8.3 kB)\n",
      "Requirement already satisfied: numpy>=1.18.5 in /opt/homebrew/Cellar/jupyterlab/4.0.7/libexec/lib/python3.11/site-packages (from gensim) (1.26.0)\n",
      "Collecting scipy>=1.7.0 (from gensim)\n",
      "  Obtaining dependency information for scipy>=1.7.0 from https://files.pythonhosted.org/packages/50/8b/2057417a07a6fee8ed8be40e37bac4a502cae4cf44468a02962bbe81b8af/scipy-1.11.3-cp311-cp311-macosx_12_0_arm64.whl.metadata\n",
      "  Using cached scipy-1.11.3-cp311-cp311-macosx_12_0_arm64.whl.metadata (165 kB)\n",
      "Collecting smart-open>=1.8.1 (from gensim)\n",
      "  Obtaining dependency information for smart-open>=1.8.1 from https://files.pythonhosted.org/packages/fc/d9/d97f1db64b09278aba64e8c81b5d322d436132df5741c518f3823824fae0/smart_open-6.4.0-py3-none-any.whl.metadata\n",
      "  Downloading smart_open-6.4.0-py3-none-any.whl.metadata (21 kB)\n",
      "Downloading gensim-4.3.2-cp311-cp311-macosx_11_0_arm64.whl (24.0 MB)\n",
      "\u001b[2K   \u001b[90m━━━━━━━━━━━━━━━━━━━━━━━━━━━━━━━━━━━━━━━━\u001b[0m \u001b[32m24.0/24.0 MB\u001b[0m \u001b[31m28.5 MB/s\u001b[0m eta \u001b[36m0:00:00\u001b[0m00:01\u001b[0m00:01\u001b[0m\n",
      "\u001b[?25hUsing cached scipy-1.11.3-cp311-cp311-macosx_12_0_arm64.whl (29.7 MB)\n",
      "Downloading smart_open-6.4.0-py3-none-any.whl (57 kB)\n",
      "\u001b[2K   \u001b[90m━━━━━━━━━━━━━━━━━━━━━━━━━━━━━━━━━━━━━━━━\u001b[0m \u001b[32m57.0/57.0 kB\u001b[0m \u001b[31m2.3 MB/s\u001b[0m eta \u001b[36m0:00:00\u001b[0m\n",
      "\u001b[?25hInstalling collected packages: smart-open, scipy, gensim\n",
      "Successfully installed gensim-4.3.2 scipy-1.11.3 smart-open-6.4.0\n",
      "Note: you may need to restart the kernel to use updated packages.\n"
     ]
    }
   ],
   "source": [
    "pip install gensim"
   ]
  },
  {
   "cell_type": "code",
   "execution_count": 7,
   "id": "b737208f-53c2-4214-8b06-9f343057a0eb",
   "metadata": {},
   "outputs": [],
   "source": [
    "from gensim.parsing.preprocessing import remove_stopwords, preprocess_string\n",
    "from gensim.corpora.textcorpus import TextCorpus\n",
    "from gensim.corpora import Dictionary\n",
    "from gensim import utils\n",
    "from gensim.models import LdaModel\n",
    "from gensim.test.utils import common_texts"
   ]
  },
  {
   "cell_type": "code",
   "execution_count": 4,
   "id": "98cce044-ac28-4b03-a26a-97863c9fa820",
   "metadata": {},
   "outputs": [],
   "source": [
    "doc_list = [\n",
    "   \"Hello, how are you?\", \"How do you do?\", \n",
    "   \"Hey what are you doing? yes you What are you doing?\"\n",
    "]"
   ]
  },
  {
   "cell_type": "code",
   "execution_count": 5,
   "id": "4da96db7-ee05-4e9e-9be5-685a942000e2",
   "metadata": {},
   "outputs": [
    {
     "data": {
      "text/plain": [
       "['Hello, you?', 'How do?', 'Hey doing? yes What doing?']"
      ]
     },
     "execution_count": 5,
     "metadata": {},
     "output_type": "execute_result"
    }
   ],
   "source": [
    "[remove_stopwords(doc) for doc in doc_list]"
   ]
  },
  {
   "cell_type": "code",
   "execution_count": 6,
   "id": "f402dfbb-c817-4ced-bf33-e08e064b73f6",
   "metadata": {},
   "outputs": [
    {
     "data": {
      "text/plain": [
       "[['hello'], [], ['hei', 'ye']]"
      ]
     },
     "execution_count": 6,
     "metadata": {},
     "output_type": "execute_result"
    }
   ],
   "source": [
    "[preprocess_string(doc) for doc in doc_list]"
   ]
  },
  {
   "cell_type": "code",
   "execution_count": 8,
   "id": "0c8757f1-342b-418a-a943-c784e7e4e8ad",
   "metadata": {},
   "outputs": [
    {
     "data": {
      "text/plain": [
       "[['human', 'interface', 'computer'],\n",
       " ['survey', 'user', 'computer', 'system', 'response', 'time'],\n",
       " ['eps', 'user', 'interface', 'system'],\n",
       " ['system', 'human', 'system', 'eps'],\n",
       " ['user', 'response', 'time'],\n",
       " ['trees'],\n",
       " ['graph', 'trees'],\n",
       " ['graph', 'minors', 'trees'],\n",
       " ['graph', 'minors', 'survey']]"
      ]
     },
     "execution_count": 8,
     "metadata": {},
     "output_type": "execute_result"
    }
   ],
   "source": [
    "common_texts"
   ]
  },
  {
   "cell_type": "code",
   "execution_count": 9,
   "id": "d000f934-6ff6-46af-8a78-03ca76ed6582",
   "metadata": {},
   "outputs": [],
   "source": [
    "common_dictionary = Dictionary(common_texts)\n",
    "common_corpus = [common_dictionary.doc2bow(text) for text in common_texts]"
   ]
  },
  {
   "cell_type": "code",
   "execution_count": 12,
   "id": "39b76d7e-3514-4719-8398-874e5ab9ed1d",
   "metadata": {},
   "outputs": [],
   "source": [
    "# Train the model on the corpus.\n",
    "lda = LdaModel(common_corpus, num_topics=10)"
   ]
  },
  {
   "cell_type": "code",
   "execution_count": 13,
   "id": "c72ea868-bd9f-42e1-9f23-7ce873f36907",
   "metadata": {},
   "outputs": [],
   "source": [
    "# Create a new corpus, made of previously unseen documents.\n",
    "\n",
    "other_texts = [\n",
    "    ['computer', 'time', 'graph'],\n",
    "    ['survey', 'response', 'eps'],\n",
    "    ['human', 'system', 'computer']\n",
    "]\n",
    "\n",
    "other_corpus = [common_dictionary.doc2bow(text) for text in other_texts]\n",
    "unseen_doc = other_corpus[0]"
   ]
  },
  {
   "cell_type": "code",
   "execution_count": 14,
   "id": "1e52a698-1572-46de-9262-61bf94b06b02",
   "metadata": {},
   "outputs": [],
   "source": [
    "vector = lda[unseen_doc]  # get topic probability distribution for a document"
   ]
  },
  {
   "cell_type": "code",
   "execution_count": 15,
   "id": "b2c2b048-67b1-4db2-be33-cefef07a532d",
   "metadata": {},
   "outputs": [
    {
     "data": {
      "text/plain": [
       "[(0, 0.025000058),\n",
       " (1, 0.025000062),\n",
       " (2, 0.025000062),\n",
       " (3, 0.025000062),\n",
       " (4, 0.2749837),\n",
       " (5, 0.5249823),\n",
       " (6, 0.025008382),\n",
       " (7, 0.025005536),\n",
       " (8, 0.025008382),\n",
       " (9, 0.02501146)]"
      ]
     },
     "execution_count": 15,
     "metadata": {},
     "output_type": "execute_result"
    }
   ],
   "source": [
    "vector"
   ]
  },
  {
   "cell_type": "markdown",
   "id": "f576c6fd-a7d5-4e55-90e3-f0b689c07673",
   "metadata": {},
   "source": [
    "https://towardsdatascience.com/topic-modeling-and-latent-dirichlet-allocation-in-python-9bf156893c24"
   ]
  },
  {
   "cell_type": "code",
   "execution_count": 24,
   "id": "6b6a7c4e-5f9b-4495-b813-ed84328a0ae4",
   "metadata": {},
   "outputs": [],
   "source": [
    "import pandas as pd\n",
    "data = pd.read_csv('abcnews-date-text.csv') #, error_bad_lines=False);\n",
    "data_text = data[['headline_text']]\n",
    "data_text['index'] = data_text.index\n",
    "documents = data_text"
   ]
  },
  {
   "cell_type": "code",
   "execution_count": 25,
   "id": "e5296bb7-dd1e-4c7d-99a5-fb9f33acf517",
   "metadata": {},
   "outputs": [
    {
     "data": {
      "text/html": [
       "<div>\n",
       "<style scoped>\n",
       "    .dataframe tbody tr th:only-of-type {\n",
       "        vertical-align: middle;\n",
       "    }\n",
       "\n",
       "    .dataframe tbody tr th {\n",
       "        vertical-align: top;\n",
       "    }\n",
       "\n",
       "    .dataframe thead th {\n",
       "        text-align: right;\n",
       "    }\n",
       "</style>\n",
       "<table border=\"1\" class=\"dataframe\">\n",
       "  <thead>\n",
       "    <tr style=\"text-align: right;\">\n",
       "      <th></th>\n",
       "      <th>headline_text</th>\n",
       "      <th>index</th>\n",
       "    </tr>\n",
       "  </thead>\n",
       "  <tbody>\n",
       "    <tr>\n",
       "      <th>0</th>\n",
       "      <td>aba decides against community broadcasting lic...</td>\n",
       "      <td>0</td>\n",
       "    </tr>\n",
       "    <tr>\n",
       "      <th>1</th>\n",
       "      <td>act fire witnesses must be aware of defamation</td>\n",
       "      <td>1</td>\n",
       "    </tr>\n",
       "    <tr>\n",
       "      <th>2</th>\n",
       "      <td>a g calls for infrastructure protection summit</td>\n",
       "      <td>2</td>\n",
       "    </tr>\n",
       "    <tr>\n",
       "      <th>3</th>\n",
       "      <td>air nz staff in aust strike for pay rise</td>\n",
       "      <td>3</td>\n",
       "    </tr>\n",
       "    <tr>\n",
       "      <th>4</th>\n",
       "      <td>air nz strike to affect australian travellers</td>\n",
       "      <td>4</td>\n",
       "    </tr>\n",
       "    <tr>\n",
       "      <th>...</th>\n",
       "      <td>...</td>\n",
       "      <td>...</td>\n",
       "    </tr>\n",
       "    <tr>\n",
       "      <th>1244179</th>\n",
       "      <td>two aged care residents die as state records 2...</td>\n",
       "      <td>1244179</td>\n",
       "    </tr>\n",
       "    <tr>\n",
       "      <th>1244180</th>\n",
       "      <td>victoria records 5;919 new cases and seven deaths</td>\n",
       "      <td>1244180</td>\n",
       "    </tr>\n",
       "    <tr>\n",
       "      <th>1244181</th>\n",
       "      <td>wa delays adopting new close contact definition</td>\n",
       "      <td>1244181</td>\n",
       "    </tr>\n",
       "    <tr>\n",
       "      <th>1244182</th>\n",
       "      <td>western ringtail possums found badly dehydrate...</td>\n",
       "      <td>1244182</td>\n",
       "    </tr>\n",
       "    <tr>\n",
       "      <th>1244183</th>\n",
       "      <td>what makes you a close covid contact here are ...</td>\n",
       "      <td>1244183</td>\n",
       "    </tr>\n",
       "  </tbody>\n",
       "</table>\n",
       "<p>1244184 rows × 2 columns</p>\n",
       "</div>"
      ],
      "text/plain": [
       "                                             headline_text    index\n",
       "0        aba decides against community broadcasting lic...        0\n",
       "1           act fire witnesses must be aware of defamation        1\n",
       "2           a g calls for infrastructure protection summit        2\n",
       "3                 air nz staff in aust strike for pay rise        3\n",
       "4            air nz strike to affect australian travellers        4\n",
       "...                                                    ...      ...\n",
       "1244179  two aged care residents die as state records 2...  1244179\n",
       "1244180  victoria records 5;919 new cases and seven deaths  1244180\n",
       "1244181    wa delays adopting new close contact definition  1244181\n",
       "1244182  western ringtail possums found badly dehydrate...  1244182\n",
       "1244183  what makes you a close covid contact here are ...  1244183\n",
       "\n",
       "[1244184 rows x 2 columns]"
      ]
     },
     "execution_count": 25,
     "metadata": {},
     "output_type": "execute_result"
    }
   ],
   "source": [
    "documents"
   ]
  },
  {
   "cell_type": "code",
   "execution_count": 26,
   "id": "0812a417-0c36-40d5-8294-0fcd466ace42",
   "metadata": {},
   "outputs": [
    {
     "name": "stdout",
     "output_type": "stream",
     "text": [
      "1244184\n",
      "                                       headline_text  index\n",
      "0  aba decides against community broadcasting lic...      0\n",
      "1     act fire witnesses must be aware of defamation      1\n",
      "2     a g calls for infrastructure protection summit      2\n",
      "3           air nz staff in aust strike for pay rise      3\n",
      "4      air nz strike to affect australian travellers      4\n"
     ]
    }
   ],
   "source": [
    "print(len(documents))\n",
    "print(documents[:5])"
   ]
  },
  {
   "cell_type": "code",
   "execution_count": 28,
   "id": "294c5b47-4df6-4cc1-9801-0a33ba005e69",
   "metadata": {},
   "outputs": [
    {
     "name": "stdout",
     "output_type": "stream",
     "text": [
      "Collecting nltk\n",
      "  Using cached nltk-3.8.1-py3-none-any.whl (1.5 MB)\n",
      "Collecting click (from nltk)\n",
      "  Obtaining dependency information for click from https://files.pythonhosted.org/packages/00/2e/d53fa4befbf2cfa713304affc7ca780ce4fc1fd8710527771b58311a3229/click-8.1.7-py3-none-any.whl.metadata\n",
      "  Downloading click-8.1.7-py3-none-any.whl.metadata (3.0 kB)\n",
      "Collecting joblib (from nltk)\n",
      "  Obtaining dependency information for joblib from https://files.pythonhosted.org/packages/10/40/d551139c85db202f1f384ba8bcf96aca2f329440a844f924c8a0040b6d02/joblib-1.3.2-py3-none-any.whl.metadata\n",
      "  Using cached joblib-1.3.2-py3-none-any.whl.metadata (5.4 kB)\n",
      "Collecting regex>=2021.8.3 (from nltk)\n",
      "  Obtaining dependency information for regex>=2021.8.3 from https://files.pythonhosted.org/packages/4d/d3/38b09813a32618acd437906c4d0194119e27139dbcd7486e69d58e375a27/regex-2023.10.3-cp311-cp311-macosx_11_0_arm64.whl.metadata\n",
      "  Downloading regex-2023.10.3-cp311-cp311-macosx_11_0_arm64.whl.metadata (40 kB)\n",
      "\u001b[2K     \u001b[90m━━━━━━━━━━━━━━━━━━━━━━━━━━━━━━━━━━━━━━━━\u001b[0m \u001b[32m40.9/40.9 kB\u001b[0m \u001b[31m1.5 MB/s\u001b[0m eta \u001b[36m0:00:00\u001b[0m\n",
      "\u001b[?25hCollecting tqdm (from nltk)\n",
      "  Obtaining dependency information for tqdm from https://files.pythonhosted.org/packages/00/e5/f12a80907d0884e6dff9c16d0c0114d81b8cd07dc3ae54c5e962cc83037e/tqdm-4.66.1-py3-none-any.whl.metadata\n",
      "  Using cached tqdm-4.66.1-py3-none-any.whl.metadata (57 kB)\n",
      "Downloading regex-2023.10.3-cp311-cp311-macosx_11_0_arm64.whl (291 kB)\n",
      "\u001b[2K   \u001b[90m━━━━━━━━━━━━━━━━━━━━━━━━━━━━━━━━━━━━━━━━\u001b[0m \u001b[32m291.0/291.0 kB\u001b[0m \u001b[31m8.9 MB/s\u001b[0m eta \u001b[36m0:00:00\u001b[0m\n",
      "\u001b[?25hDownloading click-8.1.7-py3-none-any.whl (97 kB)\n",
      "\u001b[2K   \u001b[90m━━━━━━━━━━━━━━━━━━━━━━━━━━━━━━━━━━━━━━━━\u001b[0m \u001b[32m97.9/97.9 kB\u001b[0m \u001b[31m3.7 MB/s\u001b[0m eta \u001b[36m0:00:00\u001b[0m\n",
      "\u001b[?25hUsing cached joblib-1.3.2-py3-none-any.whl (302 kB)\n",
      "Using cached tqdm-4.66.1-py3-none-any.whl (78 kB)\n",
      "Installing collected packages: tqdm, regex, joblib, click, nltk\n",
      "Successfully installed click-8.1.7 joblib-1.3.2 nltk-3.8.1 regex-2023.10.3 tqdm-4.66.1\n",
      "Note: you may need to restart the kernel to use updated packages.\n"
     ]
    }
   ],
   "source": [
    "pip install nltk"
   ]
  },
  {
   "cell_type": "code",
   "execution_count": 38,
   "id": "752313f5-c07f-4d48-9360-f48682d6296b",
   "metadata": {},
   "outputs": [
    {
     "name": "stderr",
     "output_type": "stream",
     "text": [
      "[nltk_data] Downloading package wordnet to\n",
      "[nltk_data]     /Users/signebendsen/nltk_data...\n",
      "[nltk_data]   Package wordnet is already up-to-date!\n"
     ]
    }
   ],
   "source": [
    "import gensim\n",
    "from gensim.utils import simple_preprocess\n",
    "from gensim.parsing.preprocessing import STOPWORDS\n",
    "from nltk.stem import WordNetLemmatizer, SnowballStemmer\n",
    "from nltk.stem.porter import *\n",
    "import numpy as np\n",
    "np.random.seed(2018)\n",
    "import nltk\n",
    "nltk.download('wordnet')\n",
    "from nltk.stem import *\n",
    "from nltk.stem.porter import *\n",
    "stemmer = PorterStemmer()"
   ]
  },
  {
   "cell_type": "code",
   "execution_count": 39,
   "id": "b65eb586-ae01-440c-a748-500a06eed989",
   "metadata": {},
   "outputs": [],
   "source": [
    "def lemmatize_stemming(text):\n",
    "    return stemmer.stem(WordNetLemmatizer().lemmatize(text, pos='v'))\n",
    "def preprocess(text):\n",
    "    result = []\n",
    "    for token in gensim.utils.simple_preprocess(text):\n",
    "        if token not in gensim.parsing.preprocessing.STOPWORDS and len(token) > 3:\n",
    "            result.append(lemmatize_stemming(token))\n",
    "    return result"
   ]
  },
  {
   "cell_type": "code",
   "execution_count": 40,
   "id": "d58b1600-34b1-41a6-a697-a331a4144345",
   "metadata": {},
   "outputs": [
    {
     "name": "stdout",
     "output_type": "stream",
     "text": [
      "original document: \n",
      "['ratepayers', 'group', 'wants', 'compulsory', 'local', 'govt', 'voting']\n",
      "\n",
      "\n",
      " tokenized and lemmatized document: \n",
      "['ratepay', 'group', 'want', 'compulsori', 'local', 'govt', 'vote']\n"
     ]
    }
   ],
   "source": [
    "doc_sample = documents[documents['index'] == 4310].values[0][0]\n",
    "print('original document: ')\n",
    "words = []\n",
    "for word in doc_sample.split(' '):\n",
    "    words.append(word)\n",
    "print(words)\n",
    "print('\\n\\n tokenized and lemmatized document: ')\n",
    "print(preprocess(doc_sample))"
   ]
  },
  {
   "cell_type": "code",
   "execution_count": 41,
   "id": "c0950e11-86e9-473a-85ee-b251b26a40df",
   "metadata": {},
   "outputs": [
    {
     "data": {
      "text/plain": [
       "0               [decid, commun, broadcast, licenc]\n",
       "1                               [wit, awar, defam]\n",
       "2           [call, infrastructur, protect, summit]\n",
       "3                      [staff, aust, strike, rise]\n",
       "4             [strike, affect, australian, travel]\n",
       "5               [ambiti, olsson, win, tripl, jump]\n",
       "6           [antic, delight, record, break, barca]\n",
       "7    [aussi, qualifi, stosur, wast, memphi, match]\n",
       "8            [aust, address, secur, council, iraq]\n",
       "9                         [australia, lock, timet]\n",
       "Name: headline_text, dtype: object"
      ]
     },
     "execution_count": 41,
     "metadata": {},
     "output_type": "execute_result"
    }
   ],
   "source": [
    "processed_docs = documents['headline_text'].map(preprocess)\n",
    "processed_docs[:10]"
   ]
  },
  {
   "cell_type": "code",
   "execution_count": 42,
   "id": "c56cbfe3-a832-4227-81f6-37a33e52f7f0",
   "metadata": {},
   "outputs": [
    {
     "name": "stdout",
     "output_type": "stream",
     "text": [
      "0 broadcast\n",
      "1 commun\n",
      "2 decid\n",
      "3 licenc\n",
      "4 awar\n",
      "5 defam\n",
      "6 wit\n",
      "7 call\n",
      "8 infrastructur\n",
      "9 protect\n",
      "10 summit\n"
     ]
    }
   ],
   "source": [
    "dictionary = gensim.corpora.Dictionary(processed_docs)\n",
    "count = 0\n",
    "for k, v in dictionary.iteritems():\n",
    "    print(k, v)\n",
    "    count += 1\n",
    "    if count > 10:\n",
    "        break"
   ]
  },
  {
   "cell_type": "code",
   "execution_count": 43,
   "id": "c400b337-33cf-4118-8969-d13804432182",
   "metadata": {},
   "outputs": [],
   "source": [
    "dictionary.filter_extremes(no_below=15, no_above=0.5, keep_n=100000)\n"
   ]
  },
  {
   "cell_type": "code",
   "execution_count": 44,
   "id": "314e0f1a-f3ba-4bf0-a3e5-e1a6a45df332",
   "metadata": {},
   "outputs": [
    {
     "data": {
      "text/plain": [
       "[(162, 1), (240, 1), (292, 1), (589, 1), (839, 1), (3579, 1), (3580, 1)]"
      ]
     },
     "execution_count": 44,
     "metadata": {},
     "output_type": "execute_result"
    }
   ],
   "source": [
    "bow_corpus = [dictionary.doc2bow(doc) for doc in processed_docs]\n",
    "bow_corpus[4310]"
   ]
  },
  {
   "cell_type": "code",
   "execution_count": 45,
   "id": "67ccb34f-966f-4b51-a7e7-32c2f5f1f8dd",
   "metadata": {},
   "outputs": [
    {
     "name": "stdout",
     "output_type": "stream",
     "text": [
      "Word 162 (\"govt\") appears 1 time.\n",
      "Word 240 (\"group\") appears 1 time.\n",
      "Word 292 (\"vote\") appears 1 time.\n",
      "Word 589 (\"local\") appears 1 time.\n",
      "Word 839 (\"want\") appears 1 time.\n",
      "Word 3579 (\"compulsori\") appears 1 time.\n",
      "Word 3580 (\"ratepay\") appears 1 time.\n"
     ]
    }
   ],
   "source": [
    "bow_doc_4310 = bow_corpus[4310]\n",
    "for i in range(len(bow_doc_4310)):\n",
    "    print(\"Word {} (\\\"{}\\\") appears {} time.\".format(bow_doc_4310[i][0], \n",
    "                                               dictionary[bow_doc_4310[i][0]], \n",
    "bow_doc_4310[i][1]))"
   ]
  },
  {
   "cell_type": "code",
   "execution_count": 46,
   "id": "c42971ca-d876-486c-a9e4-08e9b4f18a1a",
   "metadata": {},
   "outputs": [
    {
     "name": "stdout",
     "output_type": "stream",
     "text": [
      "[(0, 0.5854395661274623),\n",
      " (1, 0.383252758688686),\n",
      " (2, 0.50230806644029),\n",
      " (3, 0.5080004367704987)]\n"
     ]
    }
   ],
   "source": [
    "from gensim import corpora, models\n",
    "tfidf = models.TfidfModel(bow_corpus)\n",
    "corpus_tfidf = tfidf[bow_corpus]\n",
    "from pprint import pprint\n",
    "for doc in corpus_tfidf:\n",
    "    pprint(doc)\n",
    "    break"
   ]
  },
  {
   "cell_type": "code",
   "execution_count": 47,
   "id": "4144cae0-bc85-497c-997b-d1a843ecbdcf",
   "metadata": {},
   "outputs": [],
   "source": [
    "lda_model = gensim.models.LdaMulticore(bow_corpus, num_topics=10, id2word=dictionary, passes=2, workers=2)"
   ]
  },
  {
   "cell_type": "code",
   "execution_count": 48,
   "id": "4b8c488e-d3ee-4265-9abe-44747b22edbf",
   "metadata": {},
   "outputs": [
    {
     "name": "stdout",
     "output_type": "stream",
     "text": [
      "Topic: 0 \n",
      "Words: 0.027*\"news\" + 0.022*\"market\" + 0.018*\"hospit\" + 0.017*\"morrison\" + 0.016*\"work\" + 0.015*\"fight\" + 0.013*\"countri\" + 0.013*\"close\" + 0.012*\"fall\" + 0.012*\"darwin\"\n",
      "Topic: 1 \n",
      "Words: 0.051*\"polic\" + 0.035*\"case\" + 0.025*\"charg\" + 0.025*\"court\" + 0.021*\"death\" + 0.020*\"murder\" + 0.018*\"face\" + 0.016*\"restrict\" + 0.014*\"trial\" + 0.013*\"investig\"\n",
      "Topic: 2 \n",
      "Words: 0.031*\"queensland\" + 0.027*\"live\" + 0.022*\"women\" + 0.018*\"victorian\" + 0.012*\"need\" + 0.012*\"deal\" + 0.012*\"budget\" + 0.011*\"rural\" + 0.011*\"road\" + 0.011*\"drum\"\n",
      "Topic: 3 \n",
      "Words: 0.064*\"covid\" + 0.044*\"trump\" + 0.028*\"vaccin\" + 0.021*\"bushfir\" + 0.018*\"test\" + 0.015*\"australia\" + 0.013*\"say\" + 0.012*\"coronaviru\" + 0.012*\"home\" + 0.011*\"support\"\n",
      "Topic: 4 \n",
      "Words: 0.030*\"victoria\" + 0.019*\"world\" + 0.017*\"coast\" + 0.016*\"south\" + 0.016*\"australia\" + 0.015*\"peopl\" + 0.015*\"canberra\" + 0.015*\"sydney\" + 0.013*\"queensland\" + 0.013*\"alleg\"\n",
      "Topic: 5 \n",
      "Words: 0.033*\"elect\" + 0.019*\"say\" + 0.018*\"minist\" + 0.015*\"miss\" + 0.014*\"speak\" + 0.013*\"labor\" + 0.013*\"care\" + 0.013*\"call\" + 0.013*\"announc\" + 0.012*\"claim\"\n",
      "Topic: 6 \n",
      "Words: 0.064*\"coronaviru\" + 0.027*\"china\" + 0.022*\"kill\" + 0.019*\"die\" + 0.014*\"australia\" + 0.014*\"return\" + 0.014*\"crash\" + 0.014*\"jail\" + 0.013*\"attack\" + 0.013*\"australian\"\n",
      "Topic: 7 \n",
      "Words: 0.022*\"donald\" + 0.019*\"year\" + 0.018*\"chang\" + 0.015*\"lockdown\" + 0.015*\"school\" + 0.013*\"warn\" + 0.012*\"high\" + 0.011*\"travel\" + 0.011*\"tasmanian\" + 0.011*\"price\"\n",
      "Topic: 8 \n",
      "Words: 0.034*\"govern\" + 0.019*\"border\" + 0.015*\"plan\" + 0.015*\"commun\" + 0.015*\"indigen\" + 0.014*\"water\" + 0.013*\"region\" + 0.013*\"concern\" + 0.011*\"industri\" + 0.011*\"local\"\n",
      "Topic: 9 \n",
      "Words: 0.026*\"australia\" + 0.023*\"open\" + 0.015*\"final\" + 0.014*\"time\" + 0.014*\"australian\" + 0.012*\"andrew\" + 0.012*\"lose\" + 0.011*\"tell\" + 0.011*\"releas\" + 0.010*\"pandem\"\n"
     ]
    }
   ],
   "source": [
    "for idx, topic in lda_model.print_topics(-1):\n",
    "    print('Topic: {} \\nWords: {}'.format(idx, topic))"
   ]
  },
  {
   "cell_type": "code",
   "execution_count": 49,
   "id": "c8c38afb-5c0b-42f4-ad3b-8457126e6ede",
   "metadata": {},
   "outputs": [
    {
     "name": "stdout",
     "output_type": "stream",
     "text": [
      "Topic: 0 Word: 0.019*\"crash\" + 0.014*\"drum\" + 0.010*\"stori\" + 0.009*\"tuesday\" + 0.009*\"fatal\" + 0.008*\"stab\" + 0.008*\"die\" + 0.008*\"peter\" + 0.007*\"polic\" + 0.007*\"truck\"\n",
      "Topic: 1 Word: 0.012*\"andrew\" + 0.012*\"climat\" + 0.009*\"pandem\" + 0.009*\"david\" + 0.009*\"violenc\" + 0.008*\"chang\" + 0.007*\"domest\" + 0.007*\"octob\" + 0.007*\"grow\" + 0.006*\"kohler\"\n",
      "Topic: 2 Word: 0.021*\"covid\" + 0.017*\"coronaviru\" + 0.011*\"vaccin\" + 0.010*\"countri\" + 0.009*\"govern\" + 0.008*\"health\" + 0.007*\"hour\" + 0.006*\"queensland\" + 0.006*\"royal\" + 0.006*\"rural\"\n",
      "Topic: 3 Word: 0.014*\"restrict\" + 0.009*\"monday\" + 0.009*\"thursday\" + 0.009*\"bushfir\" + 0.007*\"white\" + 0.006*\"june\" + 0.006*\"coronaviru\" + 0.005*\"burn\" + 0.005*\"hous\" + 0.005*\"breach\"\n",
      "Topic: 4 Word: 0.016*\"murder\" + 0.015*\"charg\" + 0.015*\"polic\" + 0.010*\"court\" + 0.009*\"woman\" + 0.009*\"assault\" + 0.008*\"alleg\" + 0.008*\"street\" + 0.008*\"guilti\" + 0.008*\"sentenc\"\n",
      "Topic: 5 Word: 0.013*\"interview\" + 0.008*\"michael\" + 0.008*\"christma\" + 0.007*\"extend\" + 0.007*\"hobart\" + 0.006*\"daniel\" + 0.006*\"alan\" + 0.006*\"queensland\" + 0.006*\"grand\" + 0.005*\"prime\"\n",
      "Topic: 6 Word: 0.008*\"financ\" + 0.007*\"turnbul\" + 0.007*\"coronaviru\" + 0.007*\"rise\" + 0.006*\"energi\" + 0.006*\"say\" + 0.005*\"know\" + 0.005*\"fiji\" + 0.005*\"rate\" + 0.005*\"australia\"\n",
      "Topic: 7 Word: 0.019*\"news\" + 0.011*\"market\" + 0.007*\"busi\" + 0.006*\"rural\" + 0.006*\"nation\" + 0.006*\"john\" + 0.006*\"coronaviru\" + 0.006*\"queensland\" + 0.006*\"share\" + 0.006*\"juli\"\n",
      "Topic: 8 Word: 0.026*\"trump\" + 0.015*\"donald\" + 0.011*\"australia\" + 0.009*\"world\" + 0.007*\"leagu\" + 0.006*\"zealand\" + 0.006*\"cricket\" + 0.006*\"test\" + 0.006*\"scott\" + 0.005*\"australian\"\n",
      "Topic: 9 Word: 0.011*\"lockdown\" + 0.010*\"morrison\" + 0.008*\"kill\" + 0.006*\"biden\" + 0.006*\"explain\" + 0.006*\"presid\" + 0.005*\"protest\" + 0.005*\"video\" + 0.005*\"say\" + 0.005*\"septemb\"\n"
     ]
    }
   ],
   "source": [
    "lda_model_tfidf = gensim.models.LdaMulticore(corpus_tfidf, num_topics=10, id2word=dictionary, passes=2, workers=4)\n",
    "for idx, topic in lda_model_tfidf.print_topics(-1):\n",
    "    print('Topic: {} Word: {}'.format(idx, topic))"
   ]
  },
  {
   "cell_type": "code",
   "execution_count": 50,
   "id": "818c236e-51dd-469b-8ce2-c30d7a7f7701",
   "metadata": {},
   "outputs": [
    {
     "data": {
      "text/plain": [
       "['ratepay', 'group', 'want', 'compulsori', 'local', 'govt', 'vote']"
      ]
     },
     "execution_count": 50,
     "metadata": {},
     "output_type": "execute_result"
    }
   ],
   "source": [
    "processed_docs[4310]"
   ]
  },
  {
   "cell_type": "code",
   "execution_count": 51,
   "id": "6a6bdcd6-18e5-49a3-a780-1a9c7f936b84",
   "metadata": {},
   "outputs": [
    {
     "name": "stdout",
     "output_type": "stream",
     "text": [
      "\n",
      "Score: 0.887475311756134\t \n",
      "Topic: 0.034*\"govern\" + 0.019*\"border\" + 0.015*\"plan\" + 0.015*\"commun\" + 0.015*\"indigen\" + 0.014*\"water\" + 0.013*\"region\" + 0.013*\"concern\" + 0.011*\"industri\" + 0.011*\"local\"\n",
      "\n",
      "Score: 0.012507181614637375\t \n",
      "Topic: 0.033*\"elect\" + 0.019*\"say\" + 0.018*\"minist\" + 0.015*\"miss\" + 0.014*\"speak\" + 0.013*\"labor\" + 0.013*\"care\" + 0.013*\"call\" + 0.013*\"announc\" + 0.012*\"claim\"\n",
      "\n",
      "Score: 0.012502512894570827\t \n",
      "Topic: 0.022*\"donald\" + 0.019*\"year\" + 0.018*\"chang\" + 0.015*\"lockdown\" + 0.015*\"school\" + 0.013*\"warn\" + 0.012*\"high\" + 0.011*\"travel\" + 0.011*\"tasmanian\" + 0.011*\"price\"\n",
      "\n",
      "Score: 0.012502402998507023\t \n",
      "Topic: 0.064*\"covid\" + 0.044*\"trump\" + 0.028*\"vaccin\" + 0.021*\"bushfir\" + 0.018*\"test\" + 0.015*\"australia\" + 0.013*\"say\" + 0.012*\"coronaviru\" + 0.012*\"home\" + 0.011*\"support\"\n",
      "\n",
      "Score: 0.01250236202031374\t \n",
      "Topic: 0.031*\"queensland\" + 0.027*\"live\" + 0.022*\"women\" + 0.018*\"victorian\" + 0.012*\"need\" + 0.012*\"deal\" + 0.012*\"budget\" + 0.011*\"rural\" + 0.011*\"road\" + 0.011*\"drum\"\n",
      "\n",
      "Score: 0.012502186931669712\t \n",
      "Topic: 0.051*\"polic\" + 0.035*\"case\" + 0.025*\"charg\" + 0.025*\"court\" + 0.021*\"death\" + 0.020*\"murder\" + 0.018*\"face\" + 0.016*\"restrict\" + 0.014*\"trial\" + 0.013*\"investig\"\n",
      "\n",
      "Score: 0.012502169236540794\t \n",
      "Topic: 0.027*\"news\" + 0.022*\"market\" + 0.018*\"hospit\" + 0.017*\"morrison\" + 0.016*\"work\" + 0.015*\"fight\" + 0.013*\"countri\" + 0.013*\"close\" + 0.012*\"fall\" + 0.012*\"darwin\"\n",
      "\n",
      "Score: 0.012501971796154976\t \n",
      "Topic: 0.030*\"victoria\" + 0.019*\"world\" + 0.017*\"coast\" + 0.016*\"south\" + 0.016*\"australia\" + 0.015*\"peopl\" + 0.015*\"canberra\" + 0.015*\"sydney\" + 0.013*\"queensland\" + 0.013*\"alleg\"\n",
      "\n",
      "Score: 0.012501969002187252\t \n",
      "Topic: 0.064*\"coronaviru\" + 0.027*\"china\" + 0.022*\"kill\" + 0.019*\"die\" + 0.014*\"australia\" + 0.014*\"return\" + 0.014*\"crash\" + 0.014*\"jail\" + 0.013*\"attack\" + 0.013*\"australian\"\n",
      "\n",
      "Score: 0.012501969002187252\t \n",
      "Topic: 0.026*\"australia\" + 0.023*\"open\" + 0.015*\"final\" + 0.014*\"time\" + 0.014*\"australian\" + 0.012*\"andrew\" + 0.012*\"lose\" + 0.011*\"tell\" + 0.011*\"releas\" + 0.010*\"pandem\"\n"
     ]
    }
   ],
   "source": [
    "for index, score in sorted(lda_model[bow_corpus[4310]], key=lambda tup: -1*tup[1]):\n",
    "    print(\"\\nScore: {}\\t \\nTopic: {}\".format(score, lda_model.print_topic(index, 10)))"
   ]
  },
  {
   "cell_type": "code",
   "execution_count": 52,
   "id": "6391f5c2-9cc2-4c25-b26e-3afa5c6cfade",
   "metadata": {},
   "outputs": [
    {
     "name": "stdout",
     "output_type": "stream",
     "text": [
      "\n",
      "Score: 0.7418569922447205\t \n",
      "Topic: 0.021*\"covid\" + 0.017*\"coronaviru\" + 0.011*\"vaccin\" + 0.010*\"countri\" + 0.009*\"govern\" + 0.008*\"health\" + 0.007*\"hour\" + 0.006*\"queensland\" + 0.006*\"royal\" + 0.006*\"rural\"\n",
      "\n",
      "Score: 0.15809398889541626\t \n",
      "Topic: 0.013*\"interview\" + 0.008*\"michael\" + 0.008*\"christma\" + 0.007*\"extend\" + 0.007*\"hobart\" + 0.006*\"daniel\" + 0.006*\"alan\" + 0.006*\"queensland\" + 0.006*\"grand\" + 0.005*\"prime\"\n",
      "\n",
      "Score: 0.01250715833157301\t \n",
      "Topic: 0.008*\"financ\" + 0.007*\"turnbul\" + 0.007*\"coronaviru\" + 0.007*\"rise\" + 0.006*\"energi\" + 0.006*\"say\" + 0.005*\"know\" + 0.005*\"fiji\" + 0.005*\"rate\" + 0.005*\"australia\"\n",
      "\n",
      "Score: 0.012506548315286636\t \n",
      "Topic: 0.011*\"lockdown\" + 0.010*\"morrison\" + 0.008*\"kill\" + 0.006*\"biden\" + 0.006*\"explain\" + 0.006*\"presid\" + 0.005*\"protest\" + 0.005*\"video\" + 0.005*\"say\" + 0.005*\"septemb\"\n",
      "\n",
      "Score: 0.012506474740803242\t \n",
      "Topic: 0.012*\"andrew\" + 0.012*\"climat\" + 0.009*\"pandem\" + 0.009*\"david\" + 0.009*\"violenc\" + 0.008*\"chang\" + 0.007*\"domest\" + 0.007*\"octob\" + 0.007*\"grow\" + 0.006*\"kohler\"\n",
      "\n",
      "Score: 0.01250631082803011\t \n",
      "Topic: 0.014*\"restrict\" + 0.009*\"monday\" + 0.009*\"thursday\" + 0.009*\"bushfir\" + 0.007*\"white\" + 0.006*\"june\" + 0.006*\"coronaviru\" + 0.005*\"burn\" + 0.005*\"hous\" + 0.005*\"breach\"\n",
      "\n",
      "Score: 0.012506155297160149\t \n",
      "Topic: 0.019*\"news\" + 0.011*\"market\" + 0.007*\"busi\" + 0.006*\"rural\" + 0.006*\"nation\" + 0.006*\"john\" + 0.006*\"coronaviru\" + 0.006*\"queensland\" + 0.006*\"share\" + 0.006*\"juli\"\n",
      "\n",
      "Score: 0.012505635619163513\t \n",
      "Topic: 0.026*\"trump\" + 0.015*\"donald\" + 0.011*\"australia\" + 0.009*\"world\" + 0.007*\"leagu\" + 0.006*\"zealand\" + 0.006*\"cricket\" + 0.006*\"test\" + 0.006*\"scott\" + 0.005*\"australian\"\n",
      "\n",
      "Score: 0.012505521066486835\t \n",
      "Topic: 0.019*\"crash\" + 0.014*\"drum\" + 0.010*\"stori\" + 0.009*\"tuesday\" + 0.009*\"fatal\" + 0.008*\"stab\" + 0.008*\"die\" + 0.008*\"peter\" + 0.007*\"polic\" + 0.007*\"truck\"\n",
      "\n",
      "Score: 0.012505236081779003\t \n",
      "Topic: 0.016*\"murder\" + 0.015*\"charg\" + 0.015*\"polic\" + 0.010*\"court\" + 0.009*\"woman\" + 0.009*\"assault\" + 0.008*\"alleg\" + 0.008*\"street\" + 0.008*\"guilti\" + 0.008*\"sentenc\"\n"
     ]
    }
   ],
   "source": [
    "for index, score in sorted(lda_model_tfidf[bow_corpus[4310]], key=lambda tup: -1*tup[1]):\n",
    "    print(\"\\nScore: {}\\t \\nTopic: {}\".format(score, lda_model_tfidf.print_topic(index, 10)))"
   ]
  },
  {
   "cell_type": "code",
   "execution_count": 53,
   "id": "b19d0c32-2caa-470d-8073-c2082652bc61",
   "metadata": {},
   "outputs": [
    {
     "name": "stdout",
     "output_type": "stream",
     "text": [
      "Score: 0.32987621426582336\t Topic: 0.027*\"news\" + 0.022*\"market\" + 0.018*\"hospit\" + 0.017*\"morrison\" + 0.016*\"work\"\n",
      "Score: 0.2036464810371399\t Topic: 0.033*\"elect\" + 0.019*\"say\" + 0.018*\"minist\" + 0.015*\"miss\" + 0.014*\"speak\"\n",
      "Score: 0.18344080448150635\t Topic: 0.031*\"queensland\" + 0.027*\"live\" + 0.022*\"women\" + 0.018*\"victorian\" + 0.012*\"need\"\n",
      "Score: 0.18296894431114197\t Topic: 0.064*\"covid\" + 0.044*\"trump\" + 0.028*\"vaccin\" + 0.021*\"bushfir\" + 0.018*\"test\"\n",
      "Score: 0.016678903251886368\t Topic: 0.034*\"govern\" + 0.019*\"border\" + 0.015*\"plan\" + 0.015*\"commun\" + 0.015*\"indigen\"\n",
      "Score: 0.0166777390986681\t Topic: 0.051*\"polic\" + 0.035*\"case\" + 0.025*\"charg\" + 0.025*\"court\" + 0.021*\"death\"\n",
      "Score: 0.0166777390986681\t Topic: 0.030*\"victoria\" + 0.019*\"world\" + 0.017*\"coast\" + 0.016*\"south\" + 0.016*\"australia\"\n",
      "Score: 0.0166777390986681\t Topic: 0.064*\"coronaviru\" + 0.027*\"china\" + 0.022*\"kill\" + 0.019*\"die\" + 0.014*\"australia\"\n",
      "Score: 0.0166777390986681\t Topic: 0.022*\"donald\" + 0.019*\"year\" + 0.018*\"chang\" + 0.015*\"lockdown\" + 0.015*\"school\"\n",
      "Score: 0.0166777390986681\t Topic: 0.026*\"australia\" + 0.023*\"open\" + 0.015*\"final\" + 0.014*\"time\" + 0.014*\"australian\"\n"
     ]
    }
   ],
   "source": [
    "unseen_document = 'How a Pentagon deal became an identity crisis for Google'\n",
    "bow_vector = dictionary.doc2bow(preprocess(unseen_document))\n",
    "for index, score in sorted(lda_model[bow_vector], key=lambda tup: -1*tup[1]):\n",
    "    print(\"Score: {}\\t Topic: {}\".format(score, lda_model.print_topic(index, 5)))"
   ]
  },
  {
   "cell_type": "code",
   "execution_count": null,
   "id": "20308c11-40a3-4eeb-8c91-5347408da137",
   "metadata": {},
   "outputs": [],
   "source": []
  }
 ],
 "metadata": {
  "kernelspec": {
   "display_name": "Python 3 (ipykernel)",
   "language": "python",
   "name": "python3"
  },
  "language_info": {
   "codemirror_mode": {
    "name": "ipython",
    "version": 3
   },
   "file_extension": ".py",
   "mimetype": "text/x-python",
   "name": "python",
   "nbconvert_exporter": "python",
   "pygments_lexer": "ipython3",
   "version": "3.11.6"
  }
 },
 "nbformat": 4,
 "nbformat_minor": 5
}
