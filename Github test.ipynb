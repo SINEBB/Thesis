{
 "cells": [
  {
   "cell_type": "markdown",
   "id": "1548a0a2-f8aa-4436-b41e-42774d38075e",
   "metadata": {},
   "source": [
    "## Github test"
   ]
  },
  {
   "cell_type": "markdown",
   "id": "c13962e0-1cfd-487f-bc6a-8e38e5b7193b",
   "metadata": {},
   "source": [
    "Check that we succeed at push/pulling to github"
   ]
  },
  {
   "cell_type": "code",
   "execution_count": null,
   "id": "a714cc0e-d824-4917-be77-7b680c873eff",
   "metadata": {},
   "outputs": [],
   "source": []
  }
 ],
 "metadata": {
  "kernelspec": {
   "display_name": "Python 3 (ipykernel)",
   "language": "python",
   "name": "python3"
  },
  "language_info": {
   "codemirror_mode": {
    "name": "ipython",
    "version": 3
   },
   "file_extension": ".py",
   "mimetype": "text/x-python",
   "name": "python",
   "nbconvert_exporter": "python",
   "pygments_lexer": "ipython3",
   "version": "3.11.5"
  }
 },
 "nbformat": 4,
 "nbformat_minor": 5
}
