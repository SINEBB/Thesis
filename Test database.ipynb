{
 "cells": [
  {
   "cell_type": "markdown",
   "id": "28480e20-472c-4305-b7ad-1f38d6be08a0",
   "metadata": {},
   "source": [
    "### Test database"
   ]
  },
  {
   "cell_type": "markdown",
   "id": "b279cac8-1d99-4022-b627-181ddedabcd0",
   "metadata": {},
   "source": [
    "Let's figure out how the database works and what sort of data and analysis is availabe "
   ]
  },
  {
   "cell_type": "markdown",
   "id": "761ca8e4-1ff3-4c2c-98fd-d9718e0815e6",
   "metadata": {},
   "source": [
    "documentation: https://pypi.org/project/pybliometrics/\n",
    "and: https://pybliometrics.readthedocs.io/en/stable/"
   ]
  },
  {
   "cell_type": "code",
   "execution_count": 13,
   "id": "18ddd1f3-907f-48c5-bfb9-239a80f79bad",
   "metadata": {},
   "outputs": [
    {
     "name": "stdout",
     "output_type": "stream",
     "text": [
      "Requirement already satisfied: pybliometrics in /opt/homebrew/Cellar/jupyterlab/4.0.5_1/libexec/lib/python3.11/site-packages (3.5.2)\n",
      "Requirement already satisfied: requests in /opt/homebrew/Cellar/jupyterlab/4.0.5_1/libexec/lib/python3.11/site-packages (from pybliometrics) (2.31.0)\n",
      "Requirement already satisfied: tqdm in /opt/homebrew/Cellar/jupyterlab/4.0.5_1/libexec/lib/python3.11/site-packages (from pybliometrics) (4.66.1)\n",
      "Requirement already satisfied: urllib3 in /opt/homebrew/Cellar/jupyterlab/4.0.5_1/libexec/lib/python3.11/site-packages (from pybliometrics) (2.0.4)\n",
      "Requirement already satisfied: charset-normalizer<4,>=2 in /opt/homebrew/Cellar/jupyterlab/4.0.5_1/libexec/lib/python3.11/site-packages (from requests->pybliometrics) (3.2.0)\n",
      "Requirement already satisfied: idna<4,>=2.5 in /opt/homebrew/Cellar/jupyterlab/4.0.5_1/libexec/lib/python3.11/site-packages (from requests->pybliometrics) (3.4)\n",
      "Requirement already satisfied: certifi>=2017.4.17 in /opt/homebrew/opt/python-certifi/lib/python3.11/site-packages (from requests->pybliometrics) (2023.7.22)\n",
      "Note: you may need to restart the kernel to use updated packages.\n"
     ]
    }
   ],
   "source": [
    "pip install pybliometrics"
   ]
  },
  {
   "cell_type": "code",
   "execution_count": 14,
   "id": "c84812c1-911a-48e0-a0a3-67304f545598",
   "metadata": {},
   "outputs": [
    {
     "name": "stdout",
     "output_type": "stream",
     "text": [
      "ac5f4d2994dbec80ddc553e23e50f88b\n",
      "f0d5da76cc2dd4ca6e74e91512e21c73\n"
     ]
    }
   ],
   "source": [
    "from pybliometrics.scopus.utils import config\n",
    "print(config['Authentication']['APIKey'])  # Show keys\n",
    "print(config['Authentication']['InstToken'])"
   ]
  },
  {
   "cell_type": "code",
   "execution_count": 15,
   "id": "9e4a96a6-012a-4255-b0da-d23f77804a33",
   "metadata": {
    "scrolled": true
   },
   "outputs": [
    {
     "data": {
      "text/plain": [
       "'pybliometrics: Scriptable bibliometrics using a Python interface to Scopus'"
      ]
     },
     "execution_count": 15,
     "metadata": {},
     "output_type": "execute_result"
    }
   ],
   "source": [
    "# Document-specific information\n",
    "from pybliometrics.scopus import AbstractRetrieval\n",
    "ab = AbstractRetrieval(\"10.1016/j.softx.2019.100263\")\n",
    "ab.title"
   ]
  },
  {
   "cell_type": "code",
   "execution_count": 16,
   "id": "9b38fe60-a09e-4691-9392-8ad3009b2164",
   "metadata": {},
   "outputs": [
    {
     "data": {
      "text/plain": [
       "'SoftwareX'"
      ]
     },
     "execution_count": 16,
     "metadata": {},
     "output_type": "execute_result"
    }
   ],
   "source": [
    "ab.publicationName"
   ]
  },
  {
   "cell_type": "code",
   "execution_count": 17,
   "id": "cdaa48da-cafc-45fc-82fb-87acd03fdd88",
   "metadata": {},
   "outputs": [
    {
     "data": {
      "text/plain": [
       "[Author(auid=57209617104, indexed_name='Rose M.E.', surname='Rose', given_name='Michael E.', affiliation='60105007'),\n",
       " Author(auid=7004212771, indexed_name='Kitchin J.R.', surname='Kitchin', given_name='John R.', affiliation='60027950')]"
      ]
     },
     "execution_count": 17,
     "metadata": {},
     "output_type": "execute_result"
    }
   ],
   "source": [
    "ab.authors"
   ]
  },
  {
   "cell_type": "code",
   "execution_count": 18,
   "id": "d28aab16-506c-410f-9929-a47745daafde",
   "metadata": {},
   "outputs": [
    {
     "data": {
      "text/plain": [
       "39"
      ]
     },
     "execution_count": 18,
     "metadata": {},
     "output_type": "execute_result"
    }
   ],
   "source": [
    "from pybliometrics.scopus import AuthorRetrieval\n",
    "au2 = AuthorRetrieval(ab.authors[1].auid)\n",
    "au2.h_index"
   ]
  },
  {
   "cell_type": "code",
   "execution_count": 19,
   "id": "9cb69fd8-cf10-4998-a3fb-e3deb3d1592b",
   "metadata": {},
   "outputs": [
    {
     "data": {
      "text/plain": [
       "[Affiliation(id=60105007, parent=None, type='parent', relationship='author', afdispname=None, preferred_name='Max Planck Institute for Innovation and Competition', parent_preferred_name=None, country_code='deu', country='Germany', address_part='Marstallplatz 1', city='Munich', state='Bayern', postal_code='80539', org_domain='ip.mpg.de', org_URL='https://www.ip.mpg.de/en.html')]"
      ]
     },
     "execution_count": 19,
     "metadata": {},
     "output_type": "execute_result"
    }
   ],
   "source": [
    "au1 = AuthorRetrieval(ab.authors[0].auid)\n",
    "au1.affiliation_current"
   ]
  },
  {
   "cell_type": "code",
   "execution_count": 20,
   "id": "72312c7e-b319-4069-8082-64cacf622d5a",
   "metadata": {},
   "outputs": [
    {
     "data": {
      "text/plain": [
       "116"
      ]
     },
     "execution_count": 20,
     "metadata": {},
     "output_type": "execute_result"
    }
   ],
   "source": [
    "# Affiliation information\n",
    "from pybliometrics.scopus import AffiliationRetrieval\n",
    "aff1 = AffiliationRetrieval(au1.affiliation_current[0].id)\n",
    "aff1.author_count"
   ]
  },
  {
   "cell_type": "code",
   "execution_count": null,
   "id": "6e82d7e5-247e-46d6-8f15-80540f5e4a56",
   "metadata": {},
   "outputs": [],
   "source": []
  },
  {
   "cell_type": "code",
   "execution_count": null,
   "id": "a99d2a90-bf40-45db-903a-a3ca2b70f28b",
   "metadata": {},
   "outputs": [],
   "source": []
  }
 ],
 "metadata": {
  "kernelspec": {
   "display_name": "Python 3 (ipykernel)",
   "language": "python",
   "name": "python3"
  },
  "language_info": {
   "codemirror_mode": {
    "name": "ipython",
    "version": 3
   },
   "file_extension": ".py",
   "mimetype": "text/x-python",
   "name": "python",
   "nbconvert_exporter": "python",
   "pygments_lexer": "ipython3",
   "version": "3.11.5"
  }
 },
 "nbformat": 4,
 "nbformat_minor": 5
}
