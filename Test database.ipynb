{
 "cells": [
  {
   "cell_type": "markdown",
   "id": "28480e20-472c-4305-b7ad-1f38d6be08a0",
   "metadata": {},
   "source": [
    "### Test database"
   ]
  },
  {
   "cell_type": "markdown",
   "id": "b279cac8-1d99-4022-b627-181ddedabcd0",
   "metadata": {},
   "source": [
    "Let's figure out how the database works and what sort of data and analysis is availabe "
   ]
  },
  {
   "cell_type": "markdown",
   "id": "761ca8e4-1ff3-4c2c-98fd-d9718e0815e6",
   "metadata": {},
   "source": [
    "documentation: https://pypi.org/project/pybliometrics/\n",
    "and: https://pybliometrics.readthedocs.io/en/stable/"
   ]
  },
  {
   "cell_type": "code",
   "execution_count": 41,
   "id": "8dd93f41-c274-44cd-95e7-b2d9bb3b64f2",
   "metadata": {},
   "outputs": [
    {
     "name": "stdout",
     "output_type": "stream",
     "text": [
      "Collecting pandas\n",
      "  Obtaining dependency information for pandas from https://files.pythonhosted.org/packages/e5/cd/c941b51e95992968e3e8abc7180f33b952478abd6943062051517a808db7/pandas-2.1.0-cp311-cp311-macosx_11_0_arm64.whl.metadata\n",
      "  Downloading pandas-2.1.0-cp311-cp311-macosx_11_0_arm64.whl.metadata (18 kB)\n",
      "Collecting numpy>=1.23.2 (from pandas)\n",
      "  Obtaining dependency information for numpy>=1.23.2 from https://files.pythonhosted.org/packages/86/a1/b8ef999c32f26a97b5f714887e21f96c12ae99a38583a0a96e65283ac0a1/numpy-1.25.2-cp311-cp311-macosx_11_0_arm64.whl.metadata\n",
      "  Downloading numpy-1.25.2-cp311-cp311-macosx_11_0_arm64.whl.metadata (5.6 kB)\n",
      "Requirement already satisfied: python-dateutil>=2.8.2 in /opt/homebrew/Cellar/jupyterlab/4.0.5_1/libexec/lib/python3.11/site-packages (from pandas) (2.8.2)\n",
      "Collecting pytz>=2020.1 (from pandas)\n",
      "  Obtaining dependency information for pytz>=2020.1 from https://files.pythonhosted.org/packages/32/4d/aaf7eff5deb402fd9a24a1449a8119f00d74ae9c2efa79f8ef9994261fc2/pytz-2023.3.post1-py2.py3-none-any.whl.metadata\n",
      "  Downloading pytz-2023.3.post1-py2.py3-none-any.whl.metadata (22 kB)\n",
      "Collecting tzdata>=2022.1 (from pandas)\n",
      "  Downloading tzdata-2023.3-py2.py3-none-any.whl (341 kB)\n",
      "\u001b[2K     \u001b[90m━━━━━━━━━━━━━━━━━━━━━━━━━━━━━━━━━━━━━━━\u001b[0m \u001b[32m341.8/341.8 kB\u001b[0m \u001b[31m2.6 MB/s\u001b[0m eta \u001b[36m0:00:00\u001b[0m00:01\u001b[0m00:01\u001b[0m\n",
      "\u001b[?25hRequirement already satisfied: six>=1.5 in /opt/homebrew/opt/six/lib/python3.11/site-packages (from python-dateutil>=2.8.2->pandas) (1.16.0)\n",
      "Downloading pandas-2.1.0-cp311-cp311-macosx_11_0_arm64.whl (11.2 MB)\n",
      "\u001b[2K   \u001b[90m━━━━━━━━━━━━━━━━━━━━━━━━━━━━━━━━━━━━━━━━\u001b[0m \u001b[32m11.2/11.2 MB\u001b[0m \u001b[31m10.2 MB/s\u001b[0m eta \u001b[36m0:00:00\u001b[0m00:01\u001b[0m00:01\u001b[0m\n",
      "\u001b[?25hDownloading numpy-1.25.2-cp311-cp311-macosx_11_0_arm64.whl (14.0 MB)\n",
      "\u001b[2K   \u001b[90m━━━━━━━━━━━━━━━━━━━━━━━━━━━━━━━━━━━━━━━━\u001b[0m \u001b[32m14.0/14.0 MB\u001b[0m \u001b[31m12.0 MB/s\u001b[0m eta \u001b[36m0:00:00\u001b[0m00:01\u001b[0m00:01\u001b[0m\n",
      "\u001b[?25hDownloading pytz-2023.3.post1-py2.py3-none-any.whl (502 kB)\n",
      "\u001b[2K   \u001b[90m━━━━━━━━━━━━━━━━━━━━━━━━━━━━━━━━━━━━━━━━\u001b[0m \u001b[32m502.5/502.5 kB\u001b[0m \u001b[31m8.9 MB/s\u001b[0m eta \u001b[36m0:00:00\u001b[0m:00:01\u001b[0m\n",
      "\u001b[?25hInstalling collected packages: pytz, tzdata, numpy, pandas\n",
      "Successfully installed numpy-1.25.2 pandas-2.1.0 pytz-2023.3.post1 tzdata-2023.3\n",
      "Note: you may need to restart the kernel to use updated packages.\n"
     ]
    }
   ],
   "source": [
    "pip install pandas"
   ]
  },
  {
   "cell_type": "code",
   "execution_count": 22,
   "id": "18ddd1f3-907f-48c5-bfb9-239a80f79bad",
   "metadata": {},
   "outputs": [
    {
     "name": "stdout",
     "output_type": "stream",
     "text": [
      "Requirement already satisfied: pybliometrics in /opt/homebrew/Cellar/jupyterlab/4.0.5_1/libexec/lib/python3.11/site-packages (3.5.2)\n",
      "Requirement already satisfied: requests in /opt/homebrew/Cellar/jupyterlab/4.0.5_1/libexec/lib/python3.11/site-packages (from pybliometrics) (2.31.0)\n",
      "Requirement already satisfied: tqdm in /opt/homebrew/Cellar/jupyterlab/4.0.5_1/libexec/lib/python3.11/site-packages (from pybliometrics) (4.66.1)\n",
      "Requirement already satisfied: urllib3 in /opt/homebrew/Cellar/jupyterlab/4.0.5_1/libexec/lib/python3.11/site-packages (from pybliometrics) (2.0.4)\n",
      "Requirement already satisfied: charset-normalizer<4,>=2 in /opt/homebrew/Cellar/jupyterlab/4.0.5_1/libexec/lib/python3.11/site-packages (from requests->pybliometrics) (3.2.0)\n",
      "Requirement already satisfied: idna<4,>=2.5 in /opt/homebrew/Cellar/jupyterlab/4.0.5_1/libexec/lib/python3.11/site-packages (from requests->pybliometrics) (3.4)\n",
      "Requirement already satisfied: certifi>=2017.4.17 in /opt/homebrew/opt/python-certifi/lib/python3.11/site-packages (from requests->pybliometrics) (2023.7.22)\n",
      "Note: you may need to restart the kernel to use updated packages.\n"
     ]
    }
   ],
   "source": [
    "pip install pybliometrics"
   ]
  },
  {
   "cell_type": "code",
   "execution_count": 23,
   "id": "c84812c1-911a-48e0-a0a3-67304f545598",
   "metadata": {},
   "outputs": [
    {
     "name": "stdout",
     "output_type": "stream",
     "text": [
      "ac5f4d2994dbec80ddc553e23e50f88b\n",
      "f0d5da76cc2dd4ca6e74e91512e21c73\n"
     ]
    }
   ],
   "source": [
    "from pybliometrics.scopus.utils import config\n",
    "print(config['Authentication']['APIKey'])  # Show keys\n",
    "print(config['Authentication']['InstToken'])"
   ]
  },
  {
   "cell_type": "code",
   "execution_count": 24,
   "id": "9e4a96a6-012a-4255-b0da-d23f77804a33",
   "metadata": {
    "scrolled": true
   },
   "outputs": [
    {
     "data": {
      "text/plain": [
       "'pybliometrics: Scriptable bibliometrics using a Python interface to Scopus'"
      ]
     },
     "execution_count": 24,
     "metadata": {},
     "output_type": "execute_result"
    }
   ],
   "source": [
    "# Document-specific information\n",
    "from pybliometrics.scopus import AbstractRetrieval\n",
    "ab = AbstractRetrieval(\"10.1016/j.softx.2019.100263\")\n",
    "ab.title"
   ]
  },
  {
   "cell_type": "code",
   "execution_count": 25,
   "id": "9b38fe60-a09e-4691-9392-8ad3009b2164",
   "metadata": {},
   "outputs": [
    {
     "data": {
      "text/plain": [
       "'SoftwareX'"
      ]
     },
     "execution_count": 25,
     "metadata": {},
     "output_type": "execute_result"
    }
   ],
   "source": [
    "ab.publicationName"
   ]
  },
  {
   "cell_type": "code",
   "execution_count": 26,
   "id": "cdaa48da-cafc-45fc-82fb-87acd03fdd88",
   "metadata": {},
   "outputs": [
    {
     "data": {
      "text/plain": [
       "[Author(auid=57209617104, indexed_name='Rose M.E.', surname='Rose', given_name='Michael E.', affiliation='60105007'),\n",
       " Author(auid=7004212771, indexed_name='Kitchin J.R.', surname='Kitchin', given_name='John R.', affiliation='60027950')]"
      ]
     },
     "execution_count": 26,
     "metadata": {},
     "output_type": "execute_result"
    }
   ],
   "source": [
    "ab.authors"
   ]
  },
  {
   "cell_type": "code",
   "execution_count": 27,
   "id": "d28aab16-506c-410f-9929-a47745daafde",
   "metadata": {},
   "outputs": [
    {
     "data": {
      "text/plain": [
       "39"
      ]
     },
     "execution_count": 27,
     "metadata": {},
     "output_type": "execute_result"
    }
   ],
   "source": [
    "from pybliometrics.scopus import AuthorRetrieval\n",
    "au2 = AuthorRetrieval(ab.authors[1].auid)\n",
    "au2.h_index"
   ]
  },
  {
   "cell_type": "code",
   "execution_count": 28,
   "id": "9cb69fd8-cf10-4998-a3fb-e3deb3d1592b",
   "metadata": {},
   "outputs": [
    {
     "data": {
      "text/plain": [
       "[Affiliation(id=60105007, parent=None, type='parent', relationship='author', afdispname=None, preferred_name='Max Planck Institute for Innovation and Competition', parent_preferred_name=None, country_code='deu', country='Germany', address_part='Marstallplatz 1', city='Munich', state='Bayern', postal_code='80539', org_domain='ip.mpg.de', org_URL='https://www.ip.mpg.de/en.html')]"
      ]
     },
     "execution_count": 28,
     "metadata": {},
     "output_type": "execute_result"
    }
   ],
   "source": [
    "au1 = AuthorRetrieval(ab.authors[0].auid)\n",
    "au1.affiliation_current"
   ]
  },
  {
   "cell_type": "code",
   "execution_count": 29,
   "id": "72312c7e-b319-4069-8082-64cacf622d5a",
   "metadata": {},
   "outputs": [
    {
     "data": {
      "text/plain": [
       "116"
      ]
     },
     "execution_count": 29,
     "metadata": {},
     "output_type": "execute_result"
    }
   ],
   "source": [
    "# Affiliation information\n",
    "from pybliometrics.scopus import AffiliationRetrieval\n",
    "aff1 = AffiliationRetrieval(au1.affiliation_current[0].id)\n",
    "aff1.author_count"
   ]
  },
  {
   "cell_type": "markdown",
   "id": "5e0842b6-a65e-48ed-932b-357b562f41ae",
   "metadata": {},
   "source": [
    "## How to search"
   ]
  },
  {
   "cell_type": "markdown",
   "id": "bf72bb34-3f4c-4577-8e4d-dc67c591843a",
   "metadata": {},
   "source": [
    "Search keywords: https://www.scopus.com/search/form.uri?display=advanced"
   ]
  },
  {
   "cell_type": "code",
   "execution_count": 32,
   "id": "a99d2a90-bf40-45db-903a-a3ca2b70f28b",
   "metadata": {},
   "outputs": [],
   "source": [
    "from collections import namedtuple\n",
    "\n",
    "from pybliometrics.scopus import Search\n",
    "from pybliometrics.scopus.utils import listify, check_integrity, \\\n",
    "    check_field_consistency"
   ]
  },
  {
   "cell_type": "code",
   "execution_count": 33,
   "id": "7d7d38a2-6084-4188-ab4a-12834fcbdaf1",
   "metadata": {},
   "outputs": [
    {
     "name": "stdout",
     "output_type": "stream",
     "text": [
      "Search 'AFFIL(Niels Bohr Institute)' yielded 5 affiliations as of 2023-09-15:\n",
      "    Niels Bohr Institutet\n",
      "    Dark Cosmology Centre\n",
      "    Niels Bohr Archive\n",
      "    Niels Bohr International Academy\n",
      "    Niels Bohr Archive\n"
     ]
    }
   ],
   "source": [
    "from pybliometrics.scopus import AffiliationSearch\n",
    "query = \"AFFIL(Niels Bohr Institute)\"\n",
    "s = AffiliationSearch(query)\n",
    "print(s) "
   ]
  },
  {
   "cell_type": "code",
   "execution_count": 42,
   "id": "7c0234d1-e1b3-48cd-aa61-439ba9a080c9",
   "metadata": {},
   "outputs": [
    {
     "data": {
      "text/html": [
       "<div>\n",
       "<style scoped>\n",
       "    .dataframe tbody tr th:only-of-type {\n",
       "        vertical-align: middle;\n",
       "    }\n",
       "\n",
       "    .dataframe tbody tr th {\n",
       "        vertical-align: top;\n",
       "    }\n",
       "\n",
       "    .dataframe thead th {\n",
       "        text-align: right;\n",
       "    }\n",
       "</style>\n",
       "<table border=\"1\" class=\"dataframe\">\n",
       "  <thead>\n",
       "    <tr style=\"text-align: right;\">\n",
       "      <th></th>\n",
       "      <th>eid</th>\n",
       "      <th>name</th>\n",
       "      <th>variant</th>\n",
       "      <th>documents</th>\n",
       "      <th>city</th>\n",
       "      <th>country</th>\n",
       "      <th>parent</th>\n",
       "    </tr>\n",
       "  </thead>\n",
       "  <tbody>\n",
       "    <tr>\n",
       "      <th>0</th>\n",
       "      <td>10-s2.0-60017041</td>\n",
       "      <td>Niels Bohr Institutet</td>\n",
       "      <td>Niels Bohr Institute</td>\n",
       "      <td>18314</td>\n",
       "      <td>Copenhagen</td>\n",
       "      <td>Denmark</td>\n",
       "      <td>0</td>\n",
       "    </tr>\n",
       "    <tr>\n",
       "      <th>1</th>\n",
       "      <td>10-s2.0-60095454</td>\n",
       "      <td>Dark Cosmology Centre</td>\n",
       "      <td></td>\n",
       "      <td>1685</td>\n",
       "      <td>Copenhagen</td>\n",
       "      <td>Denmark</td>\n",
       "      <td>0</td>\n",
       "    </tr>\n",
       "    <tr>\n",
       "      <th>2</th>\n",
       "      <td>10-s2.0-112667331</td>\n",
       "      <td>Niels Bohr Archive</td>\n",
       "      <td></td>\n",
       "      <td>8</td>\n",
       "      <td>Copenhagen</td>\n",
       "      <td>Denmark</td>\n",
       "      <td>0</td>\n",
       "    </tr>\n",
       "    <tr>\n",
       "      <th>3</th>\n",
       "      <td>10-s2.0-108739293</td>\n",
       "      <td>Niels Bohr International Academy</td>\n",
       "      <td>Niels Bohr Institute</td>\n",
       "      <td>1</td>\n",
       "      <td>Stockholm</td>\n",
       "      <td>Sweden</td>\n",
       "      <td>0</td>\n",
       "    </tr>\n",
       "    <tr>\n",
       "      <th>4</th>\n",
       "      <td>10-s2.0-100499050</td>\n",
       "      <td>Niels Bohr Archive</td>\n",
       "      <td></td>\n",
       "      <td>1</td>\n",
       "      <td>Kobenhavn</td>\n",
       "      <td>Denmark</td>\n",
       "      <td>0</td>\n",
       "    </tr>\n",
       "  </tbody>\n",
       "</table>\n",
       "</div>"
      ],
      "text/plain": [
       "                 eid                              name               variant  \\\n",
       "0   10-s2.0-60017041             Niels Bohr Institutet  Niels Bohr Institute   \n",
       "1   10-s2.0-60095454             Dark Cosmology Centre                         \n",
       "2  10-s2.0-112667331                Niels Bohr Archive                         \n",
       "3  10-s2.0-108739293  Niels Bohr International Academy  Niels Bohr Institute   \n",
       "4  10-s2.0-100499050                Niels Bohr Archive                         \n",
       "\n",
       "   documents        city  country parent  \n",
       "0      18314  Copenhagen  Denmark      0  \n",
       "1       1685  Copenhagen  Denmark      0  \n",
       "2          8  Copenhagen  Denmark      0  \n",
       "3          1   Stockholm   Sweden      0  \n",
       "4          1   Kobenhavn  Denmark      0  "
      ]
     },
     "execution_count": 42,
     "metadata": {},
     "output_type": "execute_result"
    }
   ],
   "source": [
    "import pandas as pd\n",
    "pd.DataFrame(s.affiliations)"
   ]
  },
  {
   "cell_type": "markdown",
   "id": "f00e8b78-a67b-4ecc-81a6-9ac9226d78a8",
   "metadata": {},
   "source": [
    "Search keywords:\n",
    "\n",
    "ALL(\"Cognitive architectures\") AND AUTHOR-NAME(smith)\n",
    "TITLE-ABS-KEY(*somatic complaint wom?n) AND PUBYEAR AFT 1993\n",
    "SRCTITLE(*field ornith*) AND VOLUME(75) AND ISSUE(1) AND PAGES(53-66) "
   ]
  },
  {
   "cell_type": "code",
   "execution_count": null,
   "id": "2772bc54-36a1-4ece-af06-a5557387755f",
   "metadata": {},
   "outputs": [],
   "source": [
    "from pybliometrics.scopus import ScopusSearch"
   ]
  },
  {
   "cell_type": "code",
   "execution_count": 73,
   "id": "5c5f167c-3650-4bc9-be7e-dd0a44fe10b7",
   "metadata": {},
   "outputs": [
    {
     "data": {
      "text/plain": [
       "1"
      ]
     },
     "execution_count": 73,
     "metadata": {},
     "output_type": "execute_result"
    }
   ],
   "source": [
    "#setting download false first allows us to see the number of results before continuing to downloading documents \n",
    "s = ScopusSearch('AFFIL ( Niels Bohr Institutet\t) AND KEY(oscillator)', download=False)\n",
    "s.get_results_size()"
   ]
  },
  {
   "cell_type": "code",
   "execution_count": 68,
   "id": "2fbc94d0-a7e3-46ba-a45a-d96d25e71e6e",
   "metadata": {},
   "outputs": [],
   "source": [
    "#once downloading we can go on to extract all the information on the articles \n",
    "s = ScopusSearch('AFFIL ( Niels Bohr Institutet\t) AND KEY(oscillator)', download=True)"
   ]
  },
  {
   "cell_type": "code",
   "execution_count": 69,
   "id": "23b18431-94ba-4e2b-ad1d-be1f76d57d8a",
   "metadata": {},
   "outputs": [
    {
     "name": "stdout",
     "output_type": "stream",
     "text": [
      "Search 'AFFIL ( Niels Bohr Institutet\t) AND KEY(oscillator)' yielded 1 document as of 2023-09-15:\n",
      "    2-s2.0-84869173087\n"
     ]
    }
   ],
   "source": [
    "print(s)"
   ]
  },
  {
   "cell_type": "code",
   "execution_count": 70,
   "id": "446aa1ed-265c-4f5a-b42b-6ea26bec0d76",
   "metadata": {},
   "outputs": [
    {
     "data": {
      "text/plain": [
       "Index(['eid', 'doi', 'pii', 'pubmed_id', 'title', 'subtype',\n",
       "       'subtypeDescription', 'creator', 'afid', 'affilname',\n",
       "       'affiliation_city', 'affiliation_country', 'author_count',\n",
       "       'author_names', 'author_ids', 'author_afids', 'coverDate',\n",
       "       'coverDisplayDate', 'publicationName', 'issn', 'source_id', 'eIssn',\n",
       "       'aggregationType', 'volume', 'issueIdentifier', 'article_number',\n",
       "       'pageRange', 'description', 'authkeywords', 'citedby_count',\n",
       "       'openaccess', 'freetoread', 'freetoreadLabel', 'fund_acr', 'fund_no',\n",
       "       'fund_sponsor'],\n",
       "      dtype='object')"
      ]
     },
     "execution_count": 70,
     "metadata": {},
     "output_type": "execute_result"
    }
   ],
   "source": [
    "import pandas as pd\n",
    "df = pd.DataFrame(pd.DataFrame(s.results))\n",
    "df.columns"
   ]
  },
  {
   "cell_type": "code",
   "execution_count": 71,
   "id": "234545fe-ad55-4b6d-978c-89b4950d4f08",
   "metadata": {},
   "outputs": [
    {
     "data": {
      "text/html": [
       "<div>\n",
       "<style scoped>\n",
       "    .dataframe tbody tr th:only-of-type {\n",
       "        vertical-align: middle;\n",
       "    }\n",
       "\n",
       "    .dataframe tbody tr th {\n",
       "        vertical-align: top;\n",
       "    }\n",
       "\n",
       "    .dataframe thead th {\n",
       "        text-align: right;\n",
       "    }\n",
       "</style>\n",
       "<table border=\"1\" class=\"dataframe\">\n",
       "  <thead>\n",
       "    <tr style=\"text-align: right;\">\n",
       "      <th></th>\n",
       "      <th>eid</th>\n",
       "      <th>doi</th>\n",
       "      <th>pii</th>\n",
       "      <th>pubmed_id</th>\n",
       "      <th>title</th>\n",
       "      <th>subtype</th>\n",
       "      <th>subtypeDescription</th>\n",
       "      <th>creator</th>\n",
       "      <th>afid</th>\n",
       "      <th>affilname</th>\n",
       "      <th>affiliation_city</th>\n",
       "      <th>affiliation_country</th>\n",
       "      <th>author_count</th>\n",
       "      <th>author_names</th>\n",
       "      <th>author_ids</th>\n",
       "      <th>author_afids</th>\n",
       "      <th>coverDate</th>\n",
       "      <th>coverDisplayDate</th>\n",
       "      <th>publicationName</th>\n",
       "      <th>issn</th>\n",
       "      <th>source_id</th>\n",
       "      <th>eIssn</th>\n",
       "      <th>aggregationType</th>\n",
       "      <th>volume</th>\n",
       "      <th>issueIdentifier</th>\n",
       "      <th>article_number</th>\n",
       "      <th>pageRange</th>\n",
       "      <th>description</th>\n",
       "      <th>authkeywords</th>\n",
       "      <th>citedby_count</th>\n",
       "      <th>openaccess</th>\n",
       "      <th>freetoread</th>\n",
       "      <th>freetoreadLabel</th>\n",
       "      <th>fund_acr</th>\n",
       "      <th>fund_no</th>\n",
       "      <th>fund_sponsor</th>\n",
       "    </tr>\n",
       "  </thead>\n",
       "  <tbody>\n",
       "    <tr>\n",
       "      <th>0</th>\n",
       "      <td>2-s2.0-84869173087</td>\n",
       "      <td>10.1051/0004-6361/201219335</td>\n",
       "      <td>None</td>\n",
       "      <td>None</td>\n",
       "      <td>Solar Fe abundance and magnetic fields: Toward...</td>\n",
       "      <td>ar</td>\n",
       "      <td>Article</td>\n",
       "      <td>Fabbian D.</td>\n",
       "      <td>60030840;60017041;60011125;60003044</td>\n",
       "      <td>Københavns Universitet;Niels Bohr Institutet;I...</td>\n",
       "      <td>Copenhagen;Copenhagen;San Cristobal de La Lagu...</td>\n",
       "      <td>Denmark;Denmark;Spain;Spain</td>\n",
       "      <td>4</td>\n",
       "      <td>Fabbian, D.;Moreno-Insertis, F.;Khomenko, E.;N...</td>\n",
       "      <td>8377211100;6602462779;6701573550;7005099620</td>\n",
       "      <td>60011125-60003044;60011125-60003044;60011125-6...</td>\n",
       "      <td>2012-11-22</td>\n",
       "      <td>2012</td>\n",
       "      <td>Astronomy and Astrophysics</td>\n",
       "      <td>00046361</td>\n",
       "      <td>26750</td>\n",
       "      <td>14320746</td>\n",
       "      <td>Journal</td>\n",
       "      <td>548</td>\n",
       "      <td>None</td>\n",
       "      <td>A35</td>\n",
       "      <td>None</td>\n",
       "      <td>Aims. We investigate the impact on Fe abundanc...</td>\n",
       "      <td>Line: formation | Magnetohydrodynamics (MHD) |...</td>\n",
       "      <td>37</td>\n",
       "      <td>1</td>\n",
       "      <td>repositoryam</td>\n",
       "      <td>Green</td>\n",
       "      <td>FNU, DFF</td>\n",
       "      <td>MTRN-CT-2006-035484</td>\n",
       "      <td>Natur og Univers, Det Frie Forskningsråd</td>\n",
       "    </tr>\n",
       "  </tbody>\n",
       "</table>\n",
       "</div>"
      ],
      "text/plain": [
       "                  eid                          doi   pii pubmed_id  \\\n",
       "0  2-s2.0-84869173087  10.1051/0004-6361/201219335  None      None   \n",
       "\n",
       "                                               title subtype  \\\n",
       "0  Solar Fe abundance and magnetic fields: Toward...      ar   \n",
       "\n",
       "  subtypeDescription     creator                                 afid  \\\n",
       "0            Article  Fabbian D.  60030840;60017041;60011125;60003044   \n",
       "\n",
       "                                           affilname  \\\n",
       "0  Københavns Universitet;Niels Bohr Institutet;I...   \n",
       "\n",
       "                                    affiliation_city  \\\n",
       "0  Copenhagen;Copenhagen;San Cristobal de La Lagu...   \n",
       "\n",
       "           affiliation_country author_count  \\\n",
       "0  Denmark;Denmark;Spain;Spain            4   \n",
       "\n",
       "                                        author_names  \\\n",
       "0  Fabbian, D.;Moreno-Insertis, F.;Khomenko, E.;N...   \n",
       "\n",
       "                                    author_ids  \\\n",
       "0  8377211100;6602462779;6701573550;7005099620   \n",
       "\n",
       "                                        author_afids   coverDate  \\\n",
       "0  60011125-60003044;60011125-60003044;60011125-6...  2012-11-22   \n",
       "\n",
       "  coverDisplayDate             publicationName      issn source_id     eIssn  \\\n",
       "0             2012  Astronomy and Astrophysics  00046361     26750  14320746   \n",
       "\n",
       "  aggregationType volume issueIdentifier article_number pageRange  \\\n",
       "0         Journal    548            None            A35      None   \n",
       "\n",
       "                                         description  \\\n",
       "0  Aims. We investigate the impact on Fe abundanc...   \n",
       "\n",
       "                                        authkeywords  citedby_count  \\\n",
       "0  Line: formation | Magnetohydrodynamics (MHD) |...             37   \n",
       "\n",
       "   openaccess    freetoread freetoreadLabel  fund_acr              fund_no  \\\n",
       "0           1  repositoryam           Green  FNU, DFF  MTRN-CT-2006-035484   \n",
       "\n",
       "                               fund_sponsor  \n",
       "0  Natur og Univers, Det Frie Forskningsråd  "
      ]
     },
     "execution_count": 71,
     "metadata": {},
     "output_type": "execute_result"
    }
   ],
   "source": [
    "df"
   ]
  },
  {
   "cell_type": "markdown",
   "id": "f52b0d57-7975-4ad1-904d-7c70df1548b7",
   "metadata": {},
   "source": [
    "## Retrieval"
   ]
  },
  {
   "cell_type": "code",
   "execution_count": 135,
   "id": "54b7218d-9058-4f35-9c8e-8cfb6a283fdf",
   "metadata": {},
   "outputs": [
    {
     "data": {
      "text/plain": [
       "'2-s2.0-84869173087'"
      ]
     },
     "execution_count": 135,
     "metadata": {},
     "output_type": "execute_result"
    }
   ],
   "source": [
    "eid=df.iloc[0,0]\n",
    "eid"
   ]
  },
  {
   "cell_type": "code",
   "execution_count": 136,
   "id": "9a9e6a41-6e99-489f-b952-74f38d7e79ee",
   "metadata": {},
   "outputs": [],
   "source": [
    "ab = AbstractRetrieval(f\"{eid}\", view='FULL')"
   ]
  },
  {
   "cell_type": "code",
   "execution_count": 137,
   "id": "ef16f655-f943-48d6-9cdc-715ec5d1c87a",
   "metadata": {},
   "outputs": [
    {
     "name": "stdout",
     "output_type": "stream",
     "text": [
      "D. Fabbian, F. Moreno-Insertis, E. Khomenko and Å Nordlund: \"Solar Fe abundance and magnetic fields: Towards a consistent reference metallicity\", Astronomy and Astrophysics, 548, (no pages found)(2012). https://doi.org/10.1051/0004-6361/201219335.\n",
      "37 citation(s) as of 2023-09-15\n",
      "  Affiliation(s):\n",
      "   Københavns Universitet\n",
      "   Niels Bohr Institutet\n",
      "   Instituto Astrofisico de Canarias\n",
      "   Universidad de la Laguna\n"
     ]
    }
   ],
   "source": [
    "print(ab)"
   ]
  },
  {
   "cell_type": "code",
   "execution_count": 149,
   "id": "45c2508e-6358-436f-afa5-9da8daf59e25",
   "metadata": {},
   "outputs": [
    {
     "data": {
      "text/plain": [
       "[Author(auid=8377211100, indexed_name='Fabbian D.', surname='Fabbian', given_name='D.', affiliation='60011125;60003044'),\n",
       " Author(auid=6602462779, indexed_name='Moreno-Insertis F.', surname='Moreno-Insertis', given_name='F.', affiliation='60011125;60003044'),\n",
       " Author(auid=6701573550, indexed_name='Khomenko E.', surname='Khomenko', given_name='E.', affiliation='60011125;60003044'),\n",
       " Author(auid=7005099620, indexed_name='Nordlund A.', surname='Nordlund', given_name='Å', affiliation='60017041;60030840')]"
      ]
     },
     "execution_count": 149,
     "metadata": {},
     "output_type": "execute_result"
    }
   ],
   "source": [
    "ab.authors"
   ]
  },
  {
   "cell_type": "code",
   "execution_count": 150,
   "id": "f2caf59c-dfef-4d67-9436-4070f06ee0a4",
   "metadata": {},
   "outputs": [
    {
     "data": {
      "text/plain": [
       "['8377211100', '6602462779', '6701573550', '7005099620']"
      ]
     },
     "execution_count": 150,
     "metadata": {},
     "output_type": "execute_result"
    }
   ],
   "source": [
    "import numpy as np\n",
    "authors=pd.DataFrame(ab.authors)\n",
    "authors_id=authors.iloc[:,0].astype(str).values.tolist()\n",
    "authors_id"
   ]
  },
  {
   "cell_type": "code",
   "execution_count": 155,
   "id": "eca1eb6c-4076-4936-923d-0e9184d388ae",
   "metadata": {},
   "outputs": [
    {
     "data": {
      "text/plain": [
       "['Fabbian', 'Moreno-Insertis', 'Khomenko', 'Nordlund']"
      ]
     },
     "execution_count": 155,
     "metadata": {},
     "output_type": "execute_result"
    }
   ],
   "source": []
  },
  {
   "cell_type": "code",
   "execution_count": 158,
   "id": "4b8e2014-1fdf-4077-9429-5cbdb29b40e6",
   "metadata": {},
   "outputs": [
    {
     "data": {
      "text/plain": [
       "['Fabbian', 'Moreno-Insertis', 'Khomenko', 'Nordlund']"
      ]
     },
     "execution_count": 158,
     "metadata": {},
     "output_type": "execute_result"
    }
   ],
   "source": [
    "author_surnames=authors['surname'].values.tolist()\n",
    "author_surnames"
   ]
  },
  {
   "cell_type": "markdown",
   "id": "2b456aaf-00ee-43f1-9687-7219cc70fe6f",
   "metadata": {},
   "source": [
    "## Metadata"
   ]
  },
  {
   "cell_type": "code",
   "execution_count": 141,
   "id": "8e9c9f7c-d896-45c4-91cf-85763565b180",
   "metadata": {},
   "outputs": [
    {
     "ename": "Scopus403Error",
     "evalue": "Requestor configuration settings insufficient for access to this resource.",
     "output_type": "error",
     "traceback": [
      "\u001b[0;31m---------------------------------------------------------------------------\u001b[0m",
      "\u001b[0;31mScopus403Error\u001b[0m                            Traceback (most recent call last)",
      "Cell \u001b[0;32mIn[141], line 4\u001b[0m\n\u001b[1;32m      2\u001b[0m \u001b[38;5;28;01mfrom\u001b[39;00m \u001b[38;5;21;01mpybliometrics\u001b[39;00m\u001b[38;5;21;01m.\u001b[39;00m\u001b[38;5;21;01mscopus\u001b[39;00m \u001b[38;5;28;01mimport\u001b[39;00m CitationOverview\n\u001b[1;32m      3\u001b[0m identifier \u001b[38;5;241m=\u001b[39m [\u001b[38;5;124m\"\u001b[39m\u001b[38;5;124m85068268027\u001b[39m\u001b[38;5;124m\"\u001b[39m, \u001b[38;5;124m\"\u001b[39m\u001b[38;5;124m84930616647\u001b[39m\u001b[38;5;124m\"\u001b[39m]\n\u001b[0;32m----> 4\u001b[0m co \u001b[38;5;241m=\u001b[39m \u001b[43mCitationOverview\u001b[49m\u001b[43m(\u001b[49m\u001b[43midentifier\u001b[49m\u001b[43m,\u001b[49m\u001b[43m \u001b[49m\u001b[43mstart\u001b[49m\u001b[38;5;241;43m=\u001b[39;49m\u001b[38;5;241;43m2019\u001b[39;49m\u001b[43m,\u001b[49m\u001b[43m \u001b[49m\u001b[43mend\u001b[49m\u001b[38;5;241;43m=\u001b[39;49m\u001b[38;5;241;43m2021\u001b[39;49m\u001b[43m)\u001b[49m\n",
      "File \u001b[0;32m/opt/homebrew/Cellar/jupyterlab/4.0.5_1/libexec/lib/python3.11/site-packages/pybliometrics/scopus/abstract_citation.py:275\u001b[0m, in \u001b[0;36mCitationOverview.__init__\u001b[0;34m(self, identifier, start, end, id_type, eid, refresh, citation, **kwds)\u001b[0m\n\u001b[1;32m    273\u001b[0m kwds\u001b[38;5;241m.\u001b[39mupdate({id_type: identifier})\n\u001b[1;32m    274\u001b[0m stem \u001b[38;5;241m=\u001b[39m md5(\u001b[38;5;124m\"\u001b[39m\u001b[38;5;124m_\u001b[39m\u001b[38;5;124m\"\u001b[39m\u001b[38;5;241m.\u001b[39mjoin(identifier)\u001b[38;5;241m.\u001b[39mencode(\u001b[38;5;124m'\u001b[39m\u001b[38;5;124mutf8\u001b[39m\u001b[38;5;124m'\u001b[39m))\u001b[38;5;241m.\u001b[39mhexdigest()\n\u001b[0;32m--> 275\u001b[0m \u001b[43mRetrieval\u001b[49m\u001b[38;5;241;43m.\u001b[39;49m\u001b[38;5;21;43m__init__\u001b[39;49m\u001b[43m(\u001b[49m\u001b[38;5;28;43mself\u001b[39;49m\u001b[43m,\u001b[49m\u001b[43m \u001b[49m\u001b[43mstem\u001b[49m\u001b[43m,\u001b[49m\u001b[43m \u001b[49m\u001b[43mapi\u001b[49m\u001b[38;5;241;43m=\u001b[39;49m\u001b[38;5;124;43m'\u001b[39;49m\u001b[38;5;124;43mCitationOverview\u001b[39;49m\u001b[38;5;124;43m'\u001b[39;49m\u001b[43m,\u001b[49m\u001b[43m \u001b[49m\u001b[43mdate\u001b[49m\u001b[38;5;241;43m=\u001b[39;49m\u001b[43mdate\u001b[49m\u001b[43m,\u001b[49m\n\u001b[1;32m    276\u001b[0m \u001b[43m                   \u001b[49m\u001b[43mcitation\u001b[49m\u001b[38;5;241;43m=\u001b[39;49m\u001b[43mcitation\u001b[49m\u001b[43m,\u001b[49m\u001b[43m \u001b[49m\u001b[38;5;241;43m*\u001b[39;49m\u001b[38;5;241;43m*\u001b[39;49m\u001b[43mkwds\u001b[49m\u001b[43m)\u001b[49m\n\u001b[1;32m    277\u001b[0m \u001b[38;5;28mself\u001b[39m\u001b[38;5;241m.\u001b[39m_data \u001b[38;5;241m=\u001b[39m \u001b[38;5;28mself\u001b[39m\u001b[38;5;241m.\u001b[39m_json[\u001b[38;5;124m'\u001b[39m\u001b[38;5;124mabstract-citations-response\u001b[39m\u001b[38;5;124m'\u001b[39m]\n\u001b[1;32m    279\u001b[0m \u001b[38;5;66;03m# citeInfoMatrix\u001b[39;00m\n",
      "File \u001b[0;32m/opt/homebrew/Cellar/jupyterlab/4.0.5_1/libexec/lib/python3.11/site-packages/pybliometrics/scopus/superclasses/retrieval.py:48\u001b[0m, in \u001b[0;36mRetrieval.__init__\u001b[0;34m(self, identifier, api, id_type, **kwds)\u001b[0m\n\u001b[1;32m     46\u001b[0m \u001b[38;5;66;03m# Parse file contents\u001b[39;00m\n\u001b[1;32m     47\u001b[0m params \u001b[38;5;241m=\u001b[39m {\u001b[38;5;124m'\u001b[39m\u001b[38;5;124mview\u001b[39m\u001b[38;5;124m'\u001b[39m: \u001b[38;5;28mself\u001b[39m\u001b[38;5;241m.\u001b[39m_view, \u001b[38;5;241m*\u001b[39m\u001b[38;5;241m*\u001b[39mkwds}\n\u001b[0;32m---> 48\u001b[0m \u001b[43mBase\u001b[49m\u001b[38;5;241;43m.\u001b[39;49m\u001b[38;5;21;43m__init__\u001b[39;49m\u001b[43m(\u001b[49m\u001b[38;5;28;43mself\u001b[39;49m\u001b[43m,\u001b[49m\u001b[43m \u001b[49m\u001b[43mparams\u001b[49m\u001b[38;5;241;43m=\u001b[39;49m\u001b[43mparams\u001b[49m\u001b[43m,\u001b[49m\u001b[43m \u001b[49m\u001b[43murl\u001b[49m\u001b[38;5;241;43m=\u001b[39;49m\u001b[43murl\u001b[49m\u001b[43m,\u001b[49m\u001b[43m \u001b[49m\u001b[43mapi\u001b[49m\u001b[38;5;241;43m=\u001b[39;49m\u001b[43mapi\u001b[49m\u001b[43m)\u001b[49m\n",
      "File \u001b[0;32m/opt/homebrew/Cellar/jupyterlab/4.0.5_1/libexec/lib/python3.11/site-packages/pybliometrics/scopus/superclasses/base.py:60\u001b[0m, in \u001b[0;36mBase.__init__\u001b[0;34m(self, params, url, api, download, verbose, *args, **kwds)\u001b[0m\n\u001b[1;32m     58\u001b[0m         \u001b[38;5;28mself\u001b[39m\u001b[38;5;241m.\u001b[39m_json \u001b[38;5;241m=\u001b[39m loads(fname\u001b[38;5;241m.\u001b[39mread_text())\n\u001b[1;32m     59\u001b[0m \u001b[38;5;28;01melse\u001b[39;00m:\n\u001b[0;32m---> 60\u001b[0m     resp \u001b[38;5;241m=\u001b[39m \u001b[43mget_content\u001b[49m\u001b[43m(\u001b[49m\u001b[43murl\u001b[49m\u001b[43m,\u001b[49m\u001b[43m \u001b[49m\u001b[43mapi\u001b[49m\u001b[43m,\u001b[49m\u001b[43m \u001b[49m\u001b[43mparams\u001b[49m\u001b[43m,\u001b[49m\u001b[43m \u001b[49m\u001b[38;5;241;43m*\u001b[39;49m\u001b[43margs\u001b[49m\u001b[43m,\u001b[49m\u001b[43m \u001b[49m\u001b[38;5;241;43m*\u001b[39;49m\u001b[38;5;241;43m*\u001b[39;49m\u001b[43mkwds\u001b[49m\u001b[43m)\u001b[49m\n\u001b[1;32m     61\u001b[0m     header \u001b[38;5;241m=\u001b[39m resp\u001b[38;5;241m.\u001b[39mheaders\n\u001b[1;32m     62\u001b[0m     \u001b[38;5;28;01mif\u001b[39;00m search_request:\n\u001b[1;32m     63\u001b[0m         \u001b[38;5;66;03m# Get number of results\u001b[39;00m\n",
      "File \u001b[0;32m/opt/homebrew/Cellar/jupyterlab/4.0.5_1/libexec/lib/python3.11/site-packages/pybliometrics/scopus/utils/get_content.py:116\u001b[0m, in \u001b[0;36mget_content\u001b[0;34m(url, api, params, **kwds)\u001b[0m\n\u001b[1;32m    114\u001b[0m         \u001b[38;5;28;01mexcept\u001b[39;00m:\n\u001b[1;32m    115\u001b[0m             reason \u001b[38;5;241m=\u001b[39m \u001b[38;5;124m\"\u001b[39m\u001b[38;5;124m\"\u001b[39m\n\u001b[0;32m--> 116\u001b[0m     \u001b[38;5;28;01mraise\u001b[39;00m errors[resp\u001b[38;5;241m.\u001b[39mstatus_code](reason)\n\u001b[1;32m    117\u001b[0m \u001b[38;5;28;01mexcept\u001b[39;00m \u001b[38;5;167;01mKeyError\u001b[39;00m:\n\u001b[1;32m    118\u001b[0m     resp\u001b[38;5;241m.\u001b[39mraise_for_status()\n",
      "\u001b[0;31mScopus403Error\u001b[0m: Requestor configuration settings insufficient for access to this resource."
     ]
    }
   ],
   "source": [
    "#only works with manually approved APIkey by Elsevier \n",
    "from pybliometrics.scopus import CitationOverview\n",
    "identifier = [\"85068268027\", \"84930616647\"]\n",
    "co = CitationOverview(identifier, start=2019, end=2021)"
   ]
  },
  {
   "cell_type": "code",
   "execution_count": null,
   "id": "f7ccec3b-ef31-401d-b6fa-9b957f9f6017",
   "metadata": {},
   "outputs": [],
   "source": [
    "from pybliometrics.scopus import SubjectClassifications\n",
    "sub = SubjectClassifications({'description': 'Physics'})"
   ]
  },
  {
   "cell_type": "code",
   "execution_count": null,
   "id": "a7e67d2e-6e25-4c32-9bfd-44729a43b786",
   "metadata": {},
   "outputs": [],
   "source": [
    "print(sub)"
   ]
  },
  {
   "cell_type": "code",
   "execution_count": 142,
   "id": "6492755d-7a03-4fe7-af87-6f3ba20348f1",
   "metadata": {},
   "outputs": [
    {
     "data": {
      "text/plain": [
       "[Subject(code='3100', description='Physics and Astronomy', detail='Physics and Astronomy (all)', abbrev='PHYS'),\n",
       " Subject(code='3101', description='Physics and Astronomy', detail='Physics and Astronomy (miscellaneous)', abbrev='PHYS'),\n",
       " Subject(code='3102', description='Physics and Astronomy', detail='Acoustics and Ultrasonics', abbrev='PHYS'),\n",
       " Subject(code='3103', description='Physics and Astronomy', detail='Astronomy and Astrophysics', abbrev='PHYS'),\n",
       " Subject(code='3104', description='Physics and Astronomy', detail='Condensed Matter Physics', abbrev='PHYS'),\n",
       " Subject(code='3105', description='Physics and Astronomy', detail='Instrumentation', abbrev='PHYS'),\n",
       " Subject(code='3106', description='Physics and Astronomy', detail='Nuclear and High Energy Physics', abbrev='PHYS'),\n",
       " Subject(code='3107', description='Physics and Astronomy', detail='Atomic and Molecular Physics, and Optics', abbrev='PHYS'),\n",
       " Subject(code='3108', description='Physics and Astronomy', detail='Radiation', abbrev='PHYS'),\n",
       " Subject(code='3109', description='Physics and Astronomy', detail='Statistical and Nonlinear Physics', abbrev='PHYS'),\n",
       " Subject(code='3110', description='Physics and Astronomy', detail='Surfaces and Interfaces', abbrev='PHYS')]"
      ]
     },
     "execution_count": 142,
     "metadata": {},
     "output_type": "execute_result"
    }
   ],
   "source": [
    "sub.results"
   ]
  },
  {
   "cell_type": "markdown",
   "id": "da041e0a-a652-4e6d-a075-49d622590005",
   "metadata": {},
   "source": [
    "## Gender identification"
   ]
  },
  {
   "cell_type": "markdown",
   "id": "c065aa95-c8da-4229-9359-b4f8144b0098",
   "metadata": {},
   "source": [
    "1) https://gender-api.com/en/\n",
    "2) https://namsor.app/ with https://github.com/namsor/namsor-python-sdk2"
   ]
  },
  {
   "cell_type": "code",
   "execution_count": 143,
   "id": "7eabdc8b-c5ef-4b6c-9747-6d3d7773a229",
   "metadata": {},
   "outputs": [],
   "source": [
    "import json\n",
    "\n",
    "from urllib.request import urlopen"
   ]
  },
  {
   "cell_type": "code",
   "execution_count": 189,
   "id": "9c35ca6d-9640-4268-96eb-265619105811",
   "metadata": {},
   "outputs": [
    {
     "data": {
      "text/plain": [
       "'https://gender-api.com/get?key=Sv2m4CYx7pVPAGgNhWm9lXzZEHfQkRUzSA69&name=Fabbian'"
      ]
     },
     "execution_count": 189,
     "metadata": {},
     "output_type": "execute_result"
    }
   ],
   "source": [
    "myKey = \"Sv2m4CYx7pVPAGgNhWm9lXzZEHfQkRUzSA69\"\n",
    "url = \"https://gender-api.com/get?key=\" + myKey + f\"&name={author_surnames[0]}\"\n",
    "url"
   ]
  },
  {
   "cell_type": "code",
   "execution_count": 196,
   "id": "a4911929-ca3a-4f3a-a90d-6091725cdaf7",
   "metadata": {},
   "outputs": [
    {
     "name": "stdout",
     "output_type": "stream",
     "text": [
      "Gender: male, Accurency: 82%\n"
     ]
    }
   ],
   "source": [
    "response = urlopen(url)\n",
    "decoded = response.read().decode('utf-8')\n",
    "data = json.loads(decoded)\n",
    "print( \"Gender: \" + data[\"gender\"] +', '+ \"Accurency: \" + f\"{data['accuracy']}\" + '%') "
   ]
  },
  {
   "cell_type": "code",
   "execution_count": 198,
   "id": "216780be-127d-44ef-a3fc-fe0cf8ec4d7e",
   "metadata": {},
   "outputs": [
    {
     "data": {
      "text/plain": [
       "{'name': 'fabbian',\n",
       " 'name_sanitized': 'Fabbian',\n",
       " 'country': '',\n",
       " 'gender': 'male',\n",
       " 'samples': 11,\n",
       " 'accuracy': 82,\n",
       " 'duration': '12ms',\n",
       " 'credits_used': 1}"
      ]
     },
     "execution_count": 198,
     "metadata": {},
     "output_type": "execute_result"
    }
   ],
   "source": [
    "data"
   ]
  },
  {
   "cell_type": "code",
   "execution_count": 197,
   "id": "3db9b304-13bb-4c94-a195-6871af39b5d8",
   "metadata": {},
   "outputs": [],
   "source": [
    "#loop over author names\n",
    "#save results with name, gender, country and accuracy in dataframe "
   ]
  },
  {
   "cell_type": "code",
   "execution_count": 199,
   "id": "bcc695c1-7948-4236-aa10-5801b675e1e6",
   "metadata": {},
   "outputs": [
    {
     "name": "stdout",
     "output_type": "stream",
     "text": [
      "Collecting git+https://github.com/namsor/namsor-python-sdk2.git\n",
      "  Cloning https://github.com/namsor/namsor-python-sdk2.git to /private/var/folders/23/_5nwl30d12q_2dv4hhpqjfl00000gn/T/pip-req-build-y_i4fx41\n",
      "  Running command git clone --filter=blob:none --quiet https://github.com/namsor/namsor-python-sdk2.git /private/var/folders/23/_5nwl30d12q_2dv4hhpqjfl00000gn/T/pip-req-build-y_i4fx41\n",
      "  Resolved https://github.com/namsor/namsor-python-sdk2.git to commit 5a48bd6c1b22efb7b2f5cfde258eefdb94f48150\n",
      "  Preparing metadata (setup.py) ... \u001b[?25ldone\n",
      "\u001b[?25hRequirement already satisfied: certifi>=14.5.14 in /opt/homebrew/opt/python-certifi/lib/python3.11/site-packages (from openapi-client==2.0.27) (2023.7.22)\n",
      "Collecting frozendict~=2.3.4 (from openapi-client==2.0.27)\n",
      "  Downloading frozendict-2.3.8-py311-none-any.whl (14 kB)\n",
      "Collecting python-dateutil~=2.7.0 (from openapi-client==2.0.27)\n",
      "  Downloading python_dateutil-2.7.5-py2.py3-none-any.whl (225 kB)\n",
      "\u001b[2K     \u001b[90m━━━━━━━━━━━━━━━━━━━━━━━━━━━━━━━━━━━━━━━\u001b[0m \u001b[32m225.7/225.7 kB\u001b[0m \u001b[31m1.8 MB/s\u001b[0m eta \u001b[36m0:00:00\u001b[0m00:01\u001b[0m00:01\u001b[0m\n",
      "\u001b[?25hRequirement already satisfied: setuptools>=21.0.0 in /opt/homebrew/lib/python3.11/site-packages (from openapi-client==2.0.27) (68.1.2)\n",
      "Collecting typing_extensions~=4.3.0 (from openapi-client==2.0.27)\n",
      "  Downloading typing_extensions-4.3.0-py3-none-any.whl (25 kB)\n",
      "Collecting urllib3~=1.26.7 (from openapi-client==2.0.27)\n",
      "  Obtaining dependency information for urllib3~=1.26.7 from https://files.pythonhosted.org/packages/c5/05/c214b32d21c0b465506f95c4f28ccbcba15022e000b043b72b3df7728471/urllib3-1.26.16-py2.py3-none-any.whl.metadata\n",
      "  Downloading urllib3-1.26.16-py2.py3-none-any.whl.metadata (48 kB)\n",
      "\u001b[2K     \u001b[90m━━━━━━━━━━━━━━━━━━━━━━━━━━━━━━━━━━━━━━━━\u001b[0m \u001b[32m48.4/48.4 kB\u001b[0m \u001b[31m1.7 MB/s\u001b[0m eta \u001b[36m0:00:00\u001b[0m\n",
      "\u001b[?25hRequirement already satisfied: six>=1.5 in /opt/homebrew/opt/six/lib/python3.11/site-packages (from python-dateutil~=2.7.0->openapi-client==2.0.27) (1.16.0)\n",
      "Downloading urllib3-1.26.16-py2.py3-none-any.whl (143 kB)\n",
      "\u001b[2K   \u001b[90m━━━━━━━━━━━━━━━━━━━━━━━━━━━━━━━━━━━━━━━━\u001b[0m \u001b[32m143.1/143.1 kB\u001b[0m \u001b[31m4.1 MB/s\u001b[0m eta \u001b[36m0:00:00\u001b[0m\n",
      "\u001b[?25hBuilding wheels for collected packages: openapi-client\n",
      "  Building wheel for openapi-client (setup.py) ... \u001b[?25ldone\n",
      "\u001b[?25h  Created wheel for openapi-client: filename=openapi_client-2.0.27-py3-none-any.whl size=674043 sha256=7ffd7cb5fc068448351bde1a9775120ed5dfa18246d97425d03464759a2d16d5\n",
      "  Stored in directory: /private/var/folders/23/_5nwl30d12q_2dv4hhpqjfl00000gn/T/pip-ephem-wheel-cache-8gpfpzpi/wheels/4d/72/c8/0ce8957df4f3b816b6303869d328156f0acd57db2949e07fe2\n",
      "Successfully built openapi-client\n",
      "Installing collected packages: urllib3, typing_extensions, python-dateutil, frozendict, openapi-client\n",
      "  Attempting uninstall: urllib3\n",
      "    Found existing installation: urllib3 2.0.4\n",
      "    Uninstalling urllib3-2.0.4:\n",
      "      Successfully uninstalled urllib3-2.0.4\n",
      "  Attempting uninstall: python-dateutil\n",
      "    Found existing installation: python-dateutil 2.8.2\n",
      "    Uninstalling python-dateutil-2.8.2:\n",
      "      Successfully uninstalled python-dateutil-2.8.2\n",
      "\u001b[31mERROR: pip's dependency resolver does not currently take into account all the packages that are installed. This behaviour is the source of the following dependency conflicts.\n",
      "pandas 2.1.0 requires python-dateutil>=2.8.2, but you have python-dateutil 2.7.5 which is incompatible.\n",
      "jupyter-client 8.3.1 requires python-dateutil>=2.8.2, but you have python-dateutil 2.7.5 which is incompatible.\u001b[0m\u001b[31m\n",
      "\u001b[0mSuccessfully installed frozendict-2.3.8 openapi-client-2.0.27 python-dateutil-2.7.5 typing_extensions-4.3.0 urllib3-1.26.16\n",
      "Note: you may need to restart the kernel to use updated packages.\n"
     ]
    }
   ],
   "source": [
    "pip install git+https://github.com/namsor/namsor-python-sdk2.git"
   ]
  },
  {
   "cell_type": "code",
   "execution_count": 200,
   "id": "9994d71c-95ee-4b81-900d-2897b6b0d426",
   "metadata": {},
   "outputs": [],
   "source": [
    "import openapi_client \n"
   ]
  },
  {
   "cell_type": "code",
   "execution_count": 206,
   "id": "a12267b0-227c-4cc4-9aa0-0195be7733f3",
   "metadata": {},
   "outputs": [],
   "source": [
    "import time\n",
    "import openapi_client\n",
    "from pprint import pprint\n",
    "from openapi_client.apis.tags import admin_api\n",
    "from openapi_client.model.api_classifier_taxonomy_out import APIClassifierTaxonomyOut\n",
    "from openapi_client.model.api_classifiers_status_out import APIClassifiersStatusOut\n",
    "from openapi_client.model.api_key_out import APIKeyOut\n",
    "from openapi_client.model.api_period_usage_out import APIPeriodUsageOut\n",
    "from openapi_client.model.api_services_out import APIServicesOut\n",
    "from openapi_client.model.api_usage_aggregated_out import APIUsageAggregatedOut\n",
    "from openapi_client.model.api_usage_history_out import APIUsageHistoryOut\n",
    "from openapi_client.model.region_out import RegionOut\n",
    "from openapi_client.model.software_version_out import SoftwareVersionOut\n",
    "# Defining the host is optional and defaults to https://v2.namsor.com/NamSorAPIv2\n",
    "# See configuration.py for a list of all supported configuration parameters.\n",
    "configuration = openapi_client.Configuration(\n",
    "    host = \"https://v2.namsor.com/NamSorAPIv2\"\n",
    ")\n",
    "\n",
    "# The client must configure the authentication and authorization parameters\n",
    "# in accordance with the API server security policy.\n",
    "# Examples for each auth method are provided below, use the example that\n",
    "# satisfies your auth use case.\n",
    "\n",
    "# Configure API key authorization: api_key\n",
    "configuration.api_key['api_key'] = 'a3ed1bd679dae042f880bee01ca93e64'\n",
    "\n"
   ]
  },
  {
   "cell_type": "code",
   "execution_count": 207,
   "id": "09026e6d-56f5-417a-8f81-7cfb91da0511",
   "metadata": {},
   "outputs": [
    {
     "ename": "AttributeError",
     "evalue": "'AdminApi' object has no attribute 'gender_geo'",
     "output_type": "error",
     "traceback": [
      "\u001b[0;31m---------------------------------------------------------------------------\u001b[0m",
      "\u001b[0;31mAttributeError\u001b[0m                            Traceback (most recent call last)",
      "Cell \u001b[0;32mIn[207], line 3\u001b[0m\n\u001b[1;32m      1\u001b[0m \u001b[38;5;28;01mtry\u001b[39;00m:\n\u001b[1;32m      2\u001b[0m     \u001b[38;5;66;03m# Infer the likely gender of a name, given a local context (ISO2 country code).\u001b[39;00m\n\u001b[0;32m----> 3\u001b[0m     api_response \u001b[38;5;241m=\u001b[39m \u001b[43mapi_instance\u001b[49m\u001b[38;5;241;43m.\u001b[39;49m\u001b[43mgender_geo\u001b[49m(first_name, last_name, country_iso2)\n\u001b[1;32m      4\u001b[0m     pprint(api_response)\n\u001b[1;32m      5\u001b[0m \u001b[38;5;28;01mexcept\u001b[39;00m ApiException \u001b[38;5;28;01mas\u001b[39;00m e:\n",
      "\u001b[0;31mAttributeError\u001b[0m: 'AdminApi' object has no attribute 'gender_geo'"
     ]
    }
   ],
   "source": [
    "try:\n",
    "    # Infer the likely gender of a name, given a local context (ISO2 country code).\n",
    "    api_response = api_instance.gender_geo(first_name, last_name, country_iso2)\n",
    "    pprint(api_response)\n",
    "except ApiException as e:\n",
    "    print(\"Exception when calling PersonalApi->gender_geo: %s\\n\" % e)"
   ]
  },
  {
   "cell_type": "code",
   "execution_count": null,
   "id": "683c6205-d4f4-4c99-a67b-340f4edd5ebf",
   "metadata": {},
   "outputs": [],
   "source": []
  }
 ],
 "metadata": {
  "kernelspec": {
   "display_name": "Python 3 (ipykernel)",
   "language": "python",
   "name": "python3"
  },
  "language_info": {
   "codemirror_mode": {
    "name": "ipython",
    "version": 3
   },
   "file_extension": ".py",
   "mimetype": "text/x-python",
   "name": "python",
   "nbconvert_exporter": "python",
   "pygments_lexer": "ipython3",
   "version": "3.11.5"
  }
 },
 "nbformat": 4,
 "nbformat_minor": 5
}
